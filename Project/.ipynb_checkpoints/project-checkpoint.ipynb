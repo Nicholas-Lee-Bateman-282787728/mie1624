{
 "cells": [
  {
   "cell_type": "markdown",
   "metadata": {},
   "source": [
    "## Creating DataSet"
   ]
  },
  {
   "cell_type": "code",
   "execution_count": 2,
   "metadata": {},
   "outputs": [],
   "source": [
    "import pandas as pd\n",
    "import random \n",
    "import numpy as np\n",
    "import matplotlib.pyplot as plt\n",
    "# The following line is needed to show plots inline in notebooks\n",
    "%matplotlib inline \n",
    "from sklearn.preprocessing import StandardScaler, LabelBinarizer\n",
    "from sklearn.linear_model import LogisticRegression\n",
    "from sklearn.model_selection import train_test_split\n",
    "from sklearn.model_selection import KFold\n",
    "from sklearn.metrics import make_scorer, confusion_matrix\n",
    "from sklearn.model_selection import learning_curve\n",
    "import seaborn as sns\n",
    "sns.set_style('whitegrid')\n",
    "import statsmodels.api as sm\n",
    "from sklearn.linear_model import LinearRegression\n",
    "from sklearn.feature_selection import RFE\n",
    "import warnings\n",
    "warnings.filterwarnings(\"ignore\")\n",
    "\n",
    "# Import the necessary libraries first\n",
    "from sklearn.feature_selection import SelectKBest\n",
    "from sklearn.feature_selection import chi2\n",
    "from sklearn.decomposition import PCA"
   ]
  },
  {
   "cell_type": "code",
   "execution_count": 4,
   "metadata": {},
   "outputs": [
    {
     "data": {
      "text/plain": [
       "(2145, 15)"
      ]
     },
     "execution_count": 4,
     "metadata": {},
     "output_type": "execute_result"
    }
   ],
   "source": [
    "# (23860, 395)\n",
    "newsSummary = pd.read_csv(\"emergent.csv\", low_memory = False)\n",
    "\n",
    "# To predict the testing set use the trained model, the line below should be used.\n",
    "#Salaries = pd.read_csv(\"Kaggle_Salary.csv\", low_memory = False)\n",
    "\n",
    "newsSummary.shape"
   ]
  },
  {
   "cell_type": "code",
   "execution_count": 8,
   "metadata": {},
   "outputs": [
    {
     "data": {
      "text/html": [
       "<div>\n",
       "<style scoped>\n",
       "    .dataframe tbody tr th:only-of-type {\n",
       "        vertical-align: middle;\n",
       "    }\n",
       "\n",
       "    .dataframe tbody tr th {\n",
       "        vertical-align: top;\n",
       "    }\n",
       "\n",
       "    .dataframe thead th {\n",
       "        text-align: right;\n",
       "    }\n",
       "</style>\n",
       "<table border=\"1\" class=\"dataframe\">\n",
       "  <thead>\n",
       "    <tr style=\"text-align: right;\">\n",
       "      <th></th>\n",
       "      <th>emergent_page</th>\n",
       "      <th>claim</th>\n",
       "      <th>claim_description</th>\n",
       "      <th>claim_label</th>\n",
       "      <th>tags</th>\n",
       "      <th>claim_source_domain</th>\n",
       "      <th>claim_course_url</th>\n",
       "      <th>date</th>\n",
       "      <th>body</th>\n",
       "      <th>page_domain</th>\n",
       "      <th>page_url</th>\n",
       "      <th>page_headline</th>\n",
       "      <th>page_position</th>\n",
       "      <th>page_shares</th>\n",
       "      <th>page_order</th>\n",
       "    </tr>\n",
       "  </thead>\n",
       "  <tbody>\n",
       "    <tr>\n",
       "      <th>0</th>\n",
       "      <td>http://www.emergent.info/disney-collector-is-f...</td>\n",
       "      <td>Claim: The woman behind the hugely popular DC ...</td>\n",
       "      <td>The channel has racked up more than 2.8 billio...</td>\n",
       "      <td>Unverified</td>\n",
       "      <td>Daiane+DeJesus,DC+Toys+Collector,Porm,Sandy+Su...</td>\n",
       "      <td>dailymail.co.uk</td>\n",
       "      <td>http://www.dailymail.co.uk/news/article-295824...</td>\n",
       "      <td>2/25/2017</td>\n",
       "      <td>The Daily Mail published a story on Feb 24 tha...</td>\n",
       "      <td>dailymail.co.uk</td>\n",
       "      <td>http://www.dailymail.co.uk/news/article-295824...</td>\n",
       "      <td>Mystery woman behind the 'richest hands on the...</td>\n",
       "      <td>for</td>\n",
       "      <td>4,982</td>\n",
       "      <td>1</td>\n",
       "    </tr>\n",
       "    <tr>\n",
       "      <th>1</th>\n",
       "      <td>http://www.emergent.info/disney-collector-is-f...</td>\n",
       "      <td>Claim: The woman behind the hugely popular DC ...</td>\n",
       "      <td>The channel has racked up more than 2.8 billio...</td>\n",
       "      <td>Unverified</td>\n",
       "      <td>Daiane+DeJesus,DC+Toys+Collector,Porm,Sandy+Su...</td>\n",
       "      <td>dailymail.co.uk</td>\n",
       "      <td>http://www.dailymail.co.uk/news/article-295824...</td>\n",
       "      <td>2/25/2017</td>\n",
       "      <td>The Daily Mail published a story on Feb 24 tha...</td>\n",
       "      <td>nextshark.com</td>\n",
       "      <td>http://nextshark.com/revealed-woman-behind-5-m...</td>\n",
       "      <td>REVEALED: Woman Behind $5 Million Per Year You...</td>\n",
       "      <td>for</td>\n",
       "      <td>530</td>\n",
       "      <td>2</td>\n",
       "    </tr>\n",
       "    <tr>\n",
       "      <th>2</th>\n",
       "      <td>http://www.emergent.info/disney-collector-is-f...</td>\n",
       "      <td>Claim: The woman behind the hugely popular DC ...</td>\n",
       "      <td>The channel has racked up more than 2.8 billio...</td>\n",
       "      <td>Unverified</td>\n",
       "      <td>Daiane+DeJesus,DC+Toys+Collector,Porm,Sandy+Su...</td>\n",
       "      <td>dailymail.co.uk</td>\n",
       "      <td>http://www.dailymail.co.uk/news/article-295824...</td>\n",
       "      <td>2/25/2017</td>\n",
       "      <td>The Daily Mail published a story on Feb 24 tha...</td>\n",
       "      <td>inquisitr.com</td>\n",
       "      <td>http://www.inquisitr.com/1870478/former-porn-s...</td>\n",
       "      <td>Former Porn Star Behind YouTube Sensation ‘DC ...</td>\n",
       "      <td>for</td>\n",
       "      <td>275</td>\n",
       "      <td>3</td>\n",
       "    </tr>\n",
       "    <tr>\n",
       "      <th>3</th>\n",
       "      <td>http://www.emergent.info/20-year-old-McDonalds...</td>\n",
       "      <td>Claim: Two Australian men kept a McDonald's Qu...</td>\n",
       "      <td>They say it's the world's oldest burger.</td>\n",
       "      <td>Unverified</td>\n",
       "      <td>Australia,Food,Hamburger,McDonald's,Quarter+Po...</td>\n",
       "      <td>facebook.com</td>\n",
       "      <td>https://www.facebook.com/pages/Can-This-20-Yea...</td>\n",
       "      <td>2/17/2017</td>\n",
       "      <td>Two friends,Casey Dean and Eduard Nitz, say th...</td>\n",
       "      <td>mirror.co.uk</td>\n",
       "      <td>http://www.mirror.co.uk/news/weird-news/worlds...</td>\n",
       "      <td>Is this the world's oldest burger? Man claims ...</td>\n",
       "      <td>observing</td>\n",
       "      <td>121</td>\n",
       "      <td>1</td>\n",
       "    </tr>\n",
       "    <tr>\n",
       "      <th>4</th>\n",
       "      <td>http://www.emergent.info/20-year-old-McDonalds...</td>\n",
       "      <td>Claim: Two Australian men kept a McDonald's Qu...</td>\n",
       "      <td>They say it's the world's oldest burger.</td>\n",
       "      <td>Unverified</td>\n",
       "      <td>Australia,Food,Hamburger,McDonald's,Quarter+Po...</td>\n",
       "      <td>facebook.com</td>\n",
       "      <td>https://www.facebook.com/pages/Can-This-20-Yea...</td>\n",
       "      <td>2/17/2017</td>\n",
       "      <td>Two friends,Casey Dean and Eduard Nitz, say th...</td>\n",
       "      <td>examiner.com</td>\n",
       "      <td>http://www.examiner.com/article/20-year-old-bu...</td>\n",
       "      <td>20-year-old burger: McDonald's Quarter Pounder...</td>\n",
       "      <td>for</td>\n",
       "      <td>54</td>\n",
       "      <td>2</td>\n",
       "    </tr>\n",
       "  </tbody>\n",
       "</table>\n",
       "</div>"
      ],
      "text/plain": [
       "                                       emergent_page  \\\n",
       "0  http://www.emergent.info/disney-collector-is-f...   \n",
       "1  http://www.emergent.info/disney-collector-is-f...   \n",
       "2  http://www.emergent.info/disney-collector-is-f...   \n",
       "3  http://www.emergent.info/20-year-old-McDonalds...   \n",
       "4  http://www.emergent.info/20-year-old-McDonalds...   \n",
       "\n",
       "                                               claim  \\\n",
       "0  Claim: The woman behind the hugely popular DC ...   \n",
       "1  Claim: The woman behind the hugely popular DC ...   \n",
       "2  Claim: The woman behind the hugely popular DC ...   \n",
       "3  Claim: Two Australian men kept a McDonald's Qu...   \n",
       "4  Claim: Two Australian men kept a McDonald's Qu...   \n",
       "\n",
       "                                   claim_description claim_label  \\\n",
       "0  The channel has racked up more than 2.8 billio...  Unverified   \n",
       "1  The channel has racked up more than 2.8 billio...  Unverified   \n",
       "2  The channel has racked up more than 2.8 billio...  Unverified   \n",
       "3           They say it's the world's oldest burger.  Unverified   \n",
       "4           They say it's the world's oldest burger.  Unverified   \n",
       "\n",
       "                                                tags claim_source_domain  \\\n",
       "0  Daiane+DeJesus,DC+Toys+Collector,Porm,Sandy+Su...     dailymail.co.uk   \n",
       "1  Daiane+DeJesus,DC+Toys+Collector,Porm,Sandy+Su...     dailymail.co.uk   \n",
       "2  Daiane+DeJesus,DC+Toys+Collector,Porm,Sandy+Su...     dailymail.co.uk   \n",
       "3  Australia,Food,Hamburger,McDonald's,Quarter+Po...        facebook.com   \n",
       "4  Australia,Food,Hamburger,McDonald's,Quarter+Po...        facebook.com   \n",
       "\n",
       "                                    claim_course_url       date  \\\n",
       "0  http://www.dailymail.co.uk/news/article-295824...  2/25/2017   \n",
       "1  http://www.dailymail.co.uk/news/article-295824...  2/25/2017   \n",
       "2  http://www.dailymail.co.uk/news/article-295824...  2/25/2017   \n",
       "3  https://www.facebook.com/pages/Can-This-20-Yea...  2/17/2017   \n",
       "4  https://www.facebook.com/pages/Can-This-20-Yea...  2/17/2017   \n",
       "\n",
       "                                                body      page_domain  \\\n",
       "0  The Daily Mail published a story on Feb 24 tha...  dailymail.co.uk   \n",
       "1  The Daily Mail published a story on Feb 24 tha...    nextshark.com   \n",
       "2  The Daily Mail published a story on Feb 24 tha...    inquisitr.com   \n",
       "3  Two friends,Casey Dean and Eduard Nitz, say th...     mirror.co.uk   \n",
       "4  Two friends,Casey Dean and Eduard Nitz, say th...     examiner.com   \n",
       "\n",
       "                                            page_url  \\\n",
       "0  http://www.dailymail.co.uk/news/article-295824...   \n",
       "1  http://nextshark.com/revealed-woman-behind-5-m...   \n",
       "2  http://www.inquisitr.com/1870478/former-porn-s...   \n",
       "3  http://www.mirror.co.uk/news/weird-news/worlds...   \n",
       "4  http://www.examiner.com/article/20-year-old-bu...   \n",
       "\n",
       "                                       page_headline page_position  \\\n",
       "0  Mystery woman behind the 'richest hands on the...           for   \n",
       "1  REVEALED: Woman Behind $5 Million Per Year You...           for   \n",
       "2  Former Porn Star Behind YouTube Sensation ‘DC ...           for   \n",
       "3  Is this the world's oldest burger? Man claims ...     observing   \n",
       "4  20-year-old burger: McDonald's Quarter Pounder...           for   \n",
       "\n",
       "  page_shares  page_order  \n",
       "0       4,982           1  \n",
       "1         530           2  \n",
       "2         275           3  \n",
       "3         121           1  \n",
       "4          54           2  "
      ]
     },
     "execution_count": 8,
     "metadata": {},
     "output_type": "execute_result"
    }
   ],
   "source": [
    "newsSummary.head()"
   ]
  },
  {
   "cell_type": "code",
   "execution_count": 7,
   "metadata": {},
   "outputs": [
    {
     "data": {
      "text/plain": [
       "107"
      ]
     },
     "execution_count": 7,
     "metadata": {},
     "output_type": "execute_result"
    }
   ],
   "source": [
    "len(newsSummary.claim.unique())"
   ]
  },
  {
   "cell_type": "markdown",
   "metadata": {},
   "source": [
    "### Data Cleaning and Exploration"
   ]
  },
  {
   "cell_type": "markdown",
   "metadata": {},
   "source": [
    "In this section, data cleaning and exploration are combined. As exploration goes in depth, the relevant part of the data is processed and cleaned along the way."
   ]
  },
  {
   "cell_type": "markdown",
   "metadata": {},
   "source": [
    "Drop rows missing target variable"
   ]
  },
  {
   "cell_type": "code",
   "execution_count": 248,
   "metadata": {},
   "outputs": [],
   "source": [
    "Salaries.dropna(subset=['Q9'],inplace=True) "
   ]
  },
  {
   "cell_type": "code",
   "execution_count": 249,
   "metadata": {},
   "outputs": [
    {
     "data": {
      "text/plain": [
       "array(['What is your current yearly compensation (approximate $USD)?',\n",
       "       '10-20,000', '0-10,000',\n",
       "       'I do not wish to disclose my approximate yearly compensation',\n",
       "       '20-30,000', '125-150,000', '30-40,000', '50-60,000',\n",
       "       '100-125,000', '90-100,000', '70-80,000', '80-90,000', '60-70,000',\n",
       "       '400-500,000', '40-50,000', '150-200,000', '500,000+',\n",
       "       '300-400,000', '200-250,000', '250-300,000'], dtype=object)"
      ]
     },
     "execution_count": 249,
     "metadata": {},
     "output_type": "execute_result"
    }
   ],
   "source": [
    "Salaries.Q9.unique() "
   ]
  },
  {
   "cell_type": "markdown",
   "metadata": {},
   "source": [
    "Remove rows where salary is not disclosed"
   ]
  },
  {
   "cell_type": "code",
   "execution_count": 250,
   "metadata": {},
   "outputs": [
    {
     "data": {
      "text/plain": [
       "(15430, 395)"
      ]
     },
     "execution_count": 250,
     "metadata": {},
     "output_type": "execute_result"
    }
   ],
   "source": [
    "Salaries = Salaries[Salaries['Q9']!= \"I do not wish to disclose my approximate yearly compensation\"]\n",
    "Salaries.shape"
   ]
  },
  {
   "cell_type": "markdown",
   "metadata": {},
   "source": [
    "Add Index Column"
   ]
  },
  {
   "cell_type": "code",
   "execution_count": 251,
   "metadata": {},
   "outputs": [],
   "source": [
    "Salaries.loc[1:,'index'] = Salaries[1:].reset_index().index"
   ]
  },
  {
   "cell_type": "markdown",
   "metadata": {},
   "source": [
    "To rename certain columns due to its length"
   ]
  },
  {
   "cell_type": "code",
   "execution_count": 252,
   "metadata": {},
   "outputs": [],
   "source": [
    "Salaries = Salaries.rename(columns={\"Time from Start to Finish (seconds)\": \"Duration\"})"
   ]
  },
  {
   "cell_type": "markdown",
   "metadata": {},
   "source": [
    "Drop the columns that contain completely invalid entries, such as 0, -1."
   ]
  },
  {
   "cell_type": "code",
   "execution_count": 253,
   "metadata": {},
   "outputs": [],
   "source": [
    "dropList = []\n",
    "for colName in list(Salaries.columns):\n",
    "    if '_TEXT' in colName:\n",
    "        dropList.append(colName)\n",
    "# One special case \n",
    "dropList.append('Q32_OTHER')\n",
    "Salaries = Salaries.drop(columns=dropList)\n",
    "\n",
    "colList = Salaries.columns\n",
    "Salaries = Salaries.drop(0,axis=0)"
   ]
  },
  {
   "cell_type": "markdown",
   "metadata": {},
   "source": [
    "convert duration in string format to integer in secondss"
   ]
  },
  {
   "cell_type": "code",
   "execution_count": 254,
   "metadata": {
    "scrolled": true
   },
   "outputs": [
    {
     "data": {
      "text/plain": [
       "count     15429.000000\n",
       "mean      13026.314862\n",
       "std       48652.354414\n",
       "min          54.000000\n",
       "25%         731.000000\n",
       "50%        1123.000000\n",
       "75%        2046.000000\n",
       "max      595857.000000\n",
       "Name: Duration, dtype: float64"
      ]
     },
     "execution_count": 254,
     "metadata": {},
     "output_type": "execute_result"
    }
   ],
   "source": [
    "def strToType(strType):\n",
    "    return int(strType) if type(strType)==str and strType.isdigit() else strType\n",
    "Salaries['Duration'] = Salaries.apply(lambda row: strToType(row['Duration']),axis=1)\n",
    "Salaries['Duration'].describe()"
   ]
  },
  {
   "cell_type": "markdown",
   "metadata": {},
   "source": [
    "There are some responses that take either too long or too short, the thresholds for the upper and lower limit are 150 seconds (3 second per question) and 86400 seconds (24 hrs). "
   ]
  },
  {
   "cell_type": "code",
   "execution_count": 255,
   "metadata": {},
   "outputs": [
    {
     "data": {
      "text/plain": [
       "(14161, 361)"
      ]
     },
     "execution_count": 255,
     "metadata": {},
     "output_type": "execute_result"
    }
   ],
   "source": [
    "Salaries = Salaries[(Salaries.Duration>=150) & (Salaries.Duration<=86400)]\n",
    "Salaries.shape"
   ]
  },
  {
   "cell_type": "code",
   "execution_count": 257,
   "metadata": {
    "scrolled": false
   },
   "outputs": [
    {
     "data": {
      "text/plain": [
       "Text(0.5, 1.0, 'Histogram of Response Time')"
      ]
     },
     "execution_count": 257,
     "metadata": {},
     "output_type": "execute_result"
    },
    {
     "data": {
      "image/png": "[encoded data removed]",
      "text/plain": [
       "<Figure size 720x360 with 1 Axes>"
      ]
     },
     "metadata": {
      "needs_background": "light"
     },
     "output_type": "display_data"
    }
   ],
   "source": [
    "fig,ax = plt.subplots(figsize=(10,5))\n",
    "Salaries['Duration'].hist(bins=60, ax=ax)\n",
    "plt.xlabel('Time')\n",
    "plt.ylabel('Frequency')\n",
    "plt.title('Histogram of Response Time')"
   ]
  },
  {
   "cell_type": "markdown",
   "metadata": {},
   "source": [
    "#### Gender"
   ]
  },
  {
   "cell_type": "markdown",
   "metadata": {},
   "source": [
    "In addition to male and female genders, there are Prefer not to say, Prefer to self-describe. The first is inferred by majority rule based on the number of reponses of the two genders in that country, and the second case is dropped for the purpose of easing training difficulty."
   ]
  },
  {
   "cell_type": "code",
   "execution_count": 258,
   "metadata": {},
   "outputs": [],
   "source": [
    "genderByCountry = Salaries.groupby(['Q3', 'Q1']).count()"
   ]
  },
  {
   "cell_type": "code",
   "execution_count": 259,
   "metadata": {},
   "outputs": [],
   "source": [
    "Salaries = Salaries[Salaries.Q1 != 'Prefer to self-describe']"
   ]
  },
  {
   "cell_type": "code",
   "execution_count": 260,
   "metadata": {
    "scrolled": true
   },
   "outputs": [
    {
     "data": {
      "text/html": [
       "<div>\n",
       "<style scoped>\n",
       "    .dataframe tbody tr th:only-of-type {\n",
       "        vertical-align: middle;\n",
       "    }\n",
       "\n",
       "    .dataframe tbody tr th {\n",
       "        vertical-align: top;\n",
       "    }\n",
       "\n",
       "    .dataframe thead th {\n",
       "        text-align: right;\n",
       "    }\n",
       "</style>\n",
       "<table border=\"1\" class=\"dataframe\">\n",
       "  <thead>\n",
       "    <tr style=\"text-align: right;\">\n",
       "      <th></th>\n",
       "      <th>Duration</th>\n",
       "      <th>Q1</th>\n",
       "      <th>Q2</th>\n",
       "      <th>Q3</th>\n",
       "      <th>Q4</th>\n",
       "      <th>Q5</th>\n",
       "      <th>Q6</th>\n",
       "      <th>Q7</th>\n",
       "      <th>Q8</th>\n",
       "      <th>Q9</th>\n",
       "      <th>...</th>\n",
       "      <th>Q49_Part_12</th>\n",
       "      <th>Q50_Part_1</th>\n",
       "      <th>Q50_Part_2</th>\n",
       "      <th>Q50_Part_3</th>\n",
       "      <th>Q50_Part_4</th>\n",
       "      <th>Q50_Part_5</th>\n",
       "      <th>Q50_Part_6</th>\n",
       "      <th>Q50_Part_7</th>\n",
       "      <th>Q50_Part_8</th>\n",
       "      <th>index</th>\n",
       "    </tr>\n",
       "  </thead>\n",
       "  <tbody>\n",
       "  </tbody>\n",
       "</table>\n",
       "<p>0 rows × 361 columns</p>\n",
       "</div>"
      ],
      "text/plain": [
       "Empty DataFrame\n",
       "Columns: [Duration, Q1, Q2, Q3, Q4, Q5, Q6, Q7, Q8, Q9, Q10, Q11_Part_1, Q11_Part_2, Q11_Part_3, Q11_Part_4, Q11_Part_5, Q11_Part_6, Q11_Part_7, Q12_MULTIPLE_CHOICE, Q13_Part_1, Q13_Part_2, Q13_Part_3, Q13_Part_4, Q13_Part_5, Q13_Part_6, Q13_Part_7, Q13_Part_8, Q13_Part_9, Q13_Part_10, Q13_Part_11, Q13_Part_12, Q13_Part_13, Q13_Part_14, Q13_Part_15, Q14_Part_1, Q14_Part_2, Q14_Part_3, Q14_Part_4, Q14_Part_5, Q14_Part_6, Q14_Part_7, Q14_Part_8, Q14_Part_9, Q14_Part_10, Q14_Part_11, Q15_Part_1, Q15_Part_2, Q15_Part_3, Q15_Part_4, Q15_Part_5, Q15_Part_6, Q15_Part_7, Q16_Part_1, Q16_Part_2, Q16_Part_3, Q16_Part_4, Q16_Part_5, Q16_Part_6, Q16_Part_7, Q16_Part_8, Q16_Part_9, Q16_Part_10, Q16_Part_11, Q16_Part_12, Q16_Part_13, Q16_Part_14, Q16_Part_15, Q16_Part_16, Q16_Part_17, Q16_Part_18, Q17, Q18, Q19_Part_1, Q19_Part_2, Q19_Part_3, Q19_Part_4, Q19_Part_5, Q19_Part_6, Q19_Part_7, Q19_Part_8, Q19_Part_9, Q19_Part_10, Q19_Part_11, Q19_Part_12, Q19_Part_13, Q19_Part_14, Q19_Part_15, Q19_Part_16, Q19_Part_17, Q19_Part_18, Q19_Part_19, Q20, Q21_Part_1, Q21_Part_2, Q21_Part_3, Q21_Part_4, Q21_Part_5, Q21_Part_6, Q21_Part_7, Q21_Part_8, ...]\n",
       "Index: []\n",
       "\n",
       "[0 rows x 361 columns]"
      ]
     },
     "execution_count": 260,
     "metadata": {},
     "output_type": "execute_result"
    }
   ],
   "source": [
    "Salaries[Salaries.Q1 == 'Prefer to self-describe']"
   ]
  },
  {
   "cell_type": "code",
   "execution_count": 261,
   "metadata": {},
   "outputs": [],
   "source": [
    "def inferGender(row):\n",
    "    country = row['Q3']\n",
    "    gender = row['Q1']\n",
    "    if row['Q1'] == 'Prefer not to say':\n",
    "        genders = genderByCountry.loc[country]['Duration']\n",
    "        female, male = genders[0], genders[1]\n",
    "        gender = 'Female' if female>=male else 'Male'\n",
    "    return gender"
   ]
  },
  {
   "cell_type": "code",
   "execution_count": 262,
   "metadata": {},
   "outputs": [],
   "source": [
    "Salaries['Q1'] = Salaries.apply(lambda row: inferGender(row),axis=1)"
   ]
  },
  {
   "cell_type": "code",
   "execution_count": 263,
   "metadata": {
    "scrolled": true
   },
   "outputs": [
    {
     "data": {
      "text/html": [
       "<div>\n",
       "<style scoped>\n",
       "    .dataframe tbody tr th:only-of-type {\n",
       "        vertical-align: middle;\n",
       "    }\n",
       "\n",
       "    .dataframe tbody tr th {\n",
       "        vertical-align: top;\n",
       "    }\n",
       "\n",
       "    .dataframe thead th {\n",
       "        text-align: right;\n",
       "    }\n",
       "</style>\n",
       "<table border=\"1\" class=\"dataframe\">\n",
       "  <thead>\n",
       "    <tr style=\"text-align: right;\">\n",
       "      <th></th>\n",
       "      <th>Duration</th>\n",
       "      <th>Q1</th>\n",
       "      <th>Q2</th>\n",
       "      <th>Q3</th>\n",
       "      <th>Q4</th>\n",
       "      <th>Q5</th>\n",
       "      <th>Q6</th>\n",
       "      <th>Q7</th>\n",
       "      <th>Q8</th>\n",
       "      <th>Q9</th>\n",
       "      <th>...</th>\n",
       "      <th>Q49_Part_12</th>\n",
       "      <th>Q50_Part_1</th>\n",
       "      <th>Q50_Part_2</th>\n",
       "      <th>Q50_Part_3</th>\n",
       "      <th>Q50_Part_4</th>\n",
       "      <th>Q50_Part_5</th>\n",
       "      <th>Q50_Part_6</th>\n",
       "      <th>Q50_Part_7</th>\n",
       "      <th>Q50_Part_8</th>\n",
       "      <th>index</th>\n",
       "    </tr>\n",
       "  </thead>\n",
       "  <tbody>\n",
       "  </tbody>\n",
       "</table>\n",
       "<p>0 rows × 361 columns</p>\n",
       "</div>"
      ],
      "text/plain": [
       "Empty DataFrame\n",
       "Columns: [Duration, Q1, Q2, Q3, Q4, Q5, Q6, Q7, Q8, Q9, Q10, Q11_Part_1, Q11_Part_2, Q11_Part_3, Q11_Part_4, Q11_Part_5, Q11_Part_6, Q11_Part_7, Q12_MULTIPLE_CHOICE, Q13_Part_1, Q13_Part_2, Q13_Part_3, Q13_Part_4, Q13_Part_5, Q13_Part_6, Q13_Part_7, Q13_Part_8, Q13_Part_9, Q13_Part_10, Q13_Part_11, Q13_Part_12, Q13_Part_13, Q13_Part_14, Q13_Part_15, Q14_Part_1, Q14_Part_2, Q14_Part_3, Q14_Part_4, Q14_Part_5, Q14_Part_6, Q14_Part_7, Q14_Part_8, Q14_Part_9, Q14_Part_10, Q14_Part_11, Q15_Part_1, Q15_Part_2, Q15_Part_3, Q15_Part_4, Q15_Part_5, Q15_Part_6, Q15_Part_7, Q16_Part_1, Q16_Part_2, Q16_Part_3, Q16_Part_4, Q16_Part_5, Q16_Part_6, Q16_Part_7, Q16_Part_8, Q16_Part_9, Q16_Part_10, Q16_Part_11, Q16_Part_12, Q16_Part_13, Q16_Part_14, Q16_Part_15, Q16_Part_16, Q16_Part_17, Q16_Part_18, Q17, Q18, Q19_Part_1, Q19_Part_2, Q19_Part_3, Q19_Part_4, Q19_Part_5, Q19_Part_6, Q19_Part_7, Q19_Part_8, Q19_Part_9, Q19_Part_10, Q19_Part_11, Q19_Part_12, Q19_Part_13, Q19_Part_14, Q19_Part_15, Q19_Part_16, Q19_Part_17, Q19_Part_18, Q19_Part_19, Q20, Q21_Part_1, Q21_Part_2, Q21_Part_3, Q21_Part_4, Q21_Part_5, Q21_Part_6, Q21_Part_7, Q21_Part_8, ...]\n",
       "Index: []\n",
       "\n",
       "[0 rows x 361 columns]"
      ]
     },
     "execution_count": 263,
     "metadata": {},
     "output_type": "execute_result"
    }
   ],
   "source": [
    "Salaries[Salaries['Q1']=='Prefer not to say']"
   ]
  },
  {
   "cell_type": "code",
   "execution_count": 264,
   "metadata": {
    "scrolled": false
   },
   "outputs": [
    {
     "data": {
      "text/plain": [
       "array(['Male', 'Female'], dtype=object)"
      ]
     },
     "execution_count": 264,
     "metadata": {},
     "output_type": "execute_result"
    }
   ],
   "source": [
    "Salaries.Q1.unique()"
   ]
  },
  {
   "cell_type": "markdown",
   "metadata": {},
   "source": [
    "Since the compensition is a range, to explore the correlation between features and the target, it is necessary to convert string to numerical values. The midpoint of each range is assigned, and one special case is for 500,000+, and it is assigned as 500,000."
   ]
  },
  {
   "cell_type": "code",
   "execution_count": 265,
   "metadata": {},
   "outputs": [],
   "source": [
    "def convertSalaryToInt(row):\n",
    "    salary = row['Q9']\n",
    "    if '+' in salary:\n",
    "        average = 500\n",
    "    else:\n",
    "        begin, end = salary.split('-')\n",
    "        begin = int(begin)\n",
    "        end = int(end.split(',')[0])\n",
    "        average = (begin+end)/2\n",
    "    return int(average)"
   ]
  },
  {
   "cell_type": "code",
   "execution_count": 266,
   "metadata": {},
   "outputs": [],
   "source": [
    "Salaries['Q9_Average'] = Salaries.apply(lambda row: convertSalaryToInt(row),axis=1)"
   ]
  },
  {
   "cell_type": "markdown",
   "metadata": {},
   "source": [
    "It is seen that in the whole sample, males takes around 84%, with the rest goes to females. However, the percentage of males and females change across different income range. The plot below shows the percentage of males increases as the income group increases. Thuss gender is selected to the feature group."
   ]
  },
  {
   "cell_type": "code",
   "execution_count": 267,
   "metadata": {},
   "outputs": [
    {
     "data": {
      "text/plain": [
       "0.84"
      ]
     },
     "execution_count": 267,
     "metadata": {},
     "output_type": "execute_result"
    }
   ],
   "source": [
    "samplePct = Salaries[Salaries.Q1=='Male'].shape[0]/Salaries.shape[0]\n",
    "round(samplePct,2)"
   ]
  },
  {
   "cell_type": "code",
   "execution_count": 268,
   "metadata": {},
   "outputs": [
    {
     "data": {
      "text/plain": [
       "Text(0.5, 1.0, 'Percentage of Males in each salary group')"
      ]
     },
     "execution_count": 268,
     "metadata": {},
     "output_type": "execute_result"
    },
    {
     "data": {
      "image/png": "[encoded data removed]",
      "text/plain": [
       "<Figure size 432x288 with 1 Axes>"
      ]
     },
     "metadata": {
      "needs_background": "light"
     },
     "output_type": "display_data"
    }
   ],
   "source": [
    "pct = Salaries[Salaries.Q1=='Male'].groupby(['Q9_Average']).count().Duration/Salaries.groupby(['Q9_Average']).count().Duration\n",
    "plt.axhline(y=samplePct, color='r', linestyle='-')\n",
    "pct.plot.line()\n",
    "plt.xlabel('Compensation')\n",
    "plt.ylabel('Percentage of Males')\n",
    "plt.title('Percentage of Males in each salary group')"
   ]
  },
  {
   "cell_type": "markdown",
   "metadata": {},
   "source": [
    "#### Age"
   ]
  },
  {
   "cell_type": "markdown",
   "metadata": {},
   "source": [
    "The table below shows that as age increases, the average income also increases. Knowing which age group the respondent is from definitely helps when predicting the compensition. Thus age is included in the feature set."
   ]
  },
  {
   "cell_type": "code",
   "execution_count": 269,
   "metadata": {
    "scrolled": true
   },
   "outputs": [
    {
     "data": {
      "text/html": [
       "<div>\n",
       "<style scoped>\n",
       "    .dataframe tbody tr th:only-of-type {\n",
       "        vertical-align: middle;\n",
       "    }\n",
       "\n",
       "    .dataframe tbody tr th {\n",
       "        vertical-align: top;\n",
       "    }\n",
       "\n",
       "    .dataframe thead th {\n",
       "        text-align: right;\n",
       "    }\n",
       "</style>\n",
       "<table border=\"1\" class=\"dataframe\">\n",
       "  <thead>\n",
       "    <tr style=\"text-align: right;\">\n",
       "      <th></th>\n",
       "      <th>Q9_Average</th>\n",
       "    </tr>\n",
       "    <tr>\n",
       "      <th>Q2</th>\n",
       "      <th></th>\n",
       "    </tr>\n",
       "  </thead>\n",
       "  <tbody>\n",
       "    <tr>\n",
       "      <th>18-21</th>\n",
       "      <td>12.736264</td>\n",
       "    </tr>\n",
       "    <tr>\n",
       "      <th>22-24</th>\n",
       "      <td>22.602437</td>\n",
       "    </tr>\n",
       "    <tr>\n",
       "      <th>25-29</th>\n",
       "      <td>40.338021</td>\n",
       "    </tr>\n",
       "    <tr>\n",
       "      <th>30-34</th>\n",
       "      <td>60.262125</td>\n",
       "    </tr>\n",
       "    <tr>\n",
       "      <th>35-39</th>\n",
       "      <td>73.055154</td>\n",
       "    </tr>\n",
       "    <tr>\n",
       "      <th>40-44</th>\n",
       "      <td>77.393443</td>\n",
       "    </tr>\n",
       "    <tr>\n",
       "      <th>45-49</th>\n",
       "      <td>92.766904</td>\n",
       "    </tr>\n",
       "    <tr>\n",
       "      <th>50-54</th>\n",
       "      <td>103.277922</td>\n",
       "    </tr>\n",
       "    <tr>\n",
       "      <th>55-59</th>\n",
       "      <td>119.395238</td>\n",
       "    </tr>\n",
       "    <tr>\n",
       "      <th>60-69</th>\n",
       "      <td>117.155689</td>\n",
       "    </tr>\n",
       "    <tr>\n",
       "      <th>70-79</th>\n",
       "      <td>89.826087</td>\n",
       "    </tr>\n",
       "    <tr>\n",
       "      <th>80+</th>\n",
       "      <td>191.888889</td>\n",
       "    </tr>\n",
       "  </tbody>\n",
       "</table>\n",
       "</div>"
      ],
      "text/plain": [
       "       Q9_Average\n",
       "Q2               \n",
       "18-21   12.736264\n",
       "22-24   22.602437\n",
       "25-29   40.338021\n",
       "30-34   60.262125\n",
       "35-39   73.055154\n",
       "40-44   77.393443\n",
       "45-49   92.766904\n",
       "50-54  103.277922\n",
       "55-59  119.395238\n",
       "60-69  117.155689\n",
       "70-79   89.826087\n",
       "80+    191.888889"
      ]
     },
     "execution_count": 269,
     "metadata": {},
     "output_type": "execute_result"
    }
   ],
   "source": [
    "Salaries[['Q2','Q9_Average']].groupby(['Q2']).mean()"
   ]
  },
  {
   "cell_type": "markdown",
   "metadata": {},
   "source": [
    "#### Country"
   ]
  },
  {
   "cell_type": "markdown",
   "metadata": {},
   "source": [
    "There are 128 rows that does not disclose the country, then these rows are filtered out. This is because it is pretty hard to make a predication on where they could come from based on the rest of the answers they give. By assigning a wrong country, it could introduce a compensation outlier to a certain country."
   ]
  },
  {
   "cell_type": "code",
   "execution_count": 270,
   "metadata": {},
   "outputs": [],
   "source": [
    "Salaries = Salaries[Salaries.Q3 !='I do not wish to disclose my location']"
   ]
  },
  {
   "cell_type": "code",
   "execution_count": 271,
   "metadata": {},
   "outputs": [
    {
     "data": {
      "text/plain": [
       "(13984, 2)"
      ]
     },
     "execution_count": 271,
     "metadata": {},
     "output_type": "execute_result"
    }
   ],
   "source": [
    "Salaries[['Q3','Q9_Average']].shape"
   ]
  },
  {
   "cell_type": "code",
   "execution_count": 272,
   "metadata": {
    "scrolled": false
   },
   "outputs": [
    {
     "data": {
      "text/html": [
       "<div>\n",
       "<style scoped>\n",
       "    .dataframe tbody tr th:only-of-type {\n",
       "        vertical-align: middle;\n",
       "    }\n",
       "\n",
       "    .dataframe tbody tr th {\n",
       "        vertical-align: top;\n",
       "    }\n",
       "\n",
       "    .dataframe thead th {\n",
       "        text-align: right;\n",
       "    }\n",
       "</style>\n",
       "<table border=\"1\" class=\"dataframe\">\n",
       "  <thead>\n",
       "    <tr style=\"text-align: right;\">\n",
       "      <th></th>\n",
       "      <th>Q9_Average</th>\n",
       "      <th>Number of Responses</th>\n",
       "      <th>Pct of Total</th>\n",
       "      <th>Country</th>\n",
       "      <th>Cumulative Percentage</th>\n",
       "    </tr>\n",
       "    <tr>\n",
       "      <th>Q3</th>\n",
       "      <th></th>\n",
       "      <th></th>\n",
       "      <th></th>\n",
       "      <th></th>\n",
       "      <th></th>\n",
       "    </tr>\n",
       "  </thead>\n",
       "  <tbody>\n",
       "    <tr>\n",
       "      <th>United States of America</th>\n",
       "      <td>99.124547</td>\n",
       "      <td>3035</td>\n",
       "      <td>0.217034</td>\n",
       "      <td>United States of America</td>\n",
       "      <td>21.703375</td>\n",
       "    </tr>\n",
       "    <tr>\n",
       "      <th>India</th>\n",
       "      <td>22.211884</td>\n",
       "      <td>2171</td>\n",
       "      <td>0.155249</td>\n",
       "      <td>India</td>\n",
       "      <td>37.228261</td>\n",
       "    </tr>\n",
       "    <tr>\n",
       "      <th>China</th>\n",
       "      <td>22.798235</td>\n",
       "      <td>793</td>\n",
       "      <td>0.056708</td>\n",
       "      <td>China</td>\n",
       "      <td>42.899027</td>\n",
       "    </tr>\n",
       "    <tr>\n",
       "      <th>Other</th>\n",
       "      <td>27.555377</td>\n",
       "      <td>623</td>\n",
       "      <td>0.044551</td>\n",
       "      <td>Other</td>\n",
       "      <td>47.354119</td>\n",
       "    </tr>\n",
       "    <tr>\n",
       "      <th>Russia</th>\n",
       "      <td>23.251418</td>\n",
       "      <td>529</td>\n",
       "      <td>0.037829</td>\n",
       "      <td>Russia</td>\n",
       "      <td>51.137014</td>\n",
       "    </tr>\n",
       "  </tbody>\n",
       "</table>\n",
       "</div>"
      ],
      "text/plain": [
       "                          Q9_Average  Number of Responses  Pct of Total  \\\n",
       "Q3                                                                        \n",
       "United States of America   99.124547                 3035      0.217034   \n",
       "India                      22.211884                 2171      0.155249   \n",
       "China                      22.798235                  793      0.056708   \n",
       "Other                      27.555377                  623      0.044551   \n",
       "Russia                     23.251418                  529      0.037829   \n",
       "\n",
       "                                           Country  Cumulative Percentage  \n",
       "Q3                                                                         \n",
       "United States of America  United States of America              21.703375  \n",
       "India                                        India              37.228261  \n",
       "China                                        China              42.899027  \n",
       "Other                                        Other              47.354119  \n",
       "Russia                                      Russia              51.137014  "
      ]
     },
     "execution_count": 272,
     "metadata": {},
     "output_type": "execute_result"
    }
   ],
   "source": [
    "groupByCountry = Salaries[['Q3','Q9_Average']].groupby(['Q3'],sort=False)\n",
    "perCountryAverage = groupByCountry.mean()\n",
    "perCountryAverage['Number of Responses'] = groupByCountry.count()\n",
    "perCountryAverage['Pct of Total'] = groupByCountry.count()/Salaries[['Q3','Q9_Average']].shape[0]\n",
    "perCountryAverage.sort_values(by=['Number of Responses'], ascending=False)\n",
    "perCountryAverage['Country'] = perCountryAverage.index\n",
    "perCountryAverage = perCountryAverage.sort_values(by=['Number of Responses'], ascending=False)\n",
    "perCountryAverage['Cumulative Percentage'] = 100*perCountryAverage['Number of Responses'].cumsum() \\\n",
    "                                             /perCountryAverage['Number of Responses'].sum()\n",
    "perCountryAverage.head(5)"
   ]
  },
  {
   "cell_type": "markdown",
   "metadata": {},
   "source": [
    "It can be seen that the average salary varies significantly from one country to another. For example, US has a average of 99.26K based on 3035 responses compared with 22.22K of India based on 2171 responses. Obviously, country plays an important role in determining the salary due to different living cost, labour competition and etc. Thus, this feature should definetely included. However, there are 58 different countries in this dateset, which could introduces much difficulty of modelling. A subset is choosen that only include the countries with no less than 100 responses. Thus the number of countries under study is 26"
   ]
  },
  {
   "cell_type": "code",
   "execution_count": 273,
   "metadata": {},
   "outputs": [
    {
     "data": {
      "text/plain": [
       "57"
      ]
     },
     "execution_count": 273,
     "metadata": {},
     "output_type": "execute_result"
    }
   ],
   "source": [
    "len(Salaries.Q3.unique())"
   ]
  },
  {
   "cell_type": "code",
   "execution_count": 274,
   "metadata": {
    "scrolled": true
   },
   "outputs": [
    {
     "data": {
      "text/plain": [
       "26"
      ]
     },
     "execution_count": 274,
     "metadata": {},
     "output_type": "execute_result"
    }
   ],
   "source": [
    "CountryIncluded = perCountryAverage[perCountryAverage['Number of Responses']>=100].Country.unique()\n",
    "len(CountryIncluded)"
   ]
  },
  {
   "cell_type": "code",
   "execution_count": 275,
   "metadata": {},
   "outputs": [],
   "source": [
    "def includeCountries(row, CountryIncluded):\n",
    "    return True if row['Q3'] in CountryIncluded else False\n",
    "Salaries['IncludeCountry'] = Salaries.apply(lambda row: includeCountries(row, CountryIncluded),axis=1)"
   ]
  },
  {
   "cell_type": "code",
   "execution_count": 276,
   "metadata": {},
   "outputs": [],
   "source": [
    "Salaries = Salaries[Salaries['IncludeCountry']]"
   ]
  },
  {
   "cell_type": "code",
   "execution_count": 277,
   "metadata": {
    "scrolled": true
   },
   "outputs": [
    {
     "data": {
      "text/html": [
       "<div>\n",
       "<style scoped>\n",
       "    .dataframe tbody tr th:only-of-type {\n",
       "        vertical-align: middle;\n",
       "    }\n",
       "\n",
       "    .dataframe tbody tr th {\n",
       "        vertical-align: top;\n",
       "    }\n",
       "\n",
       "    .dataframe thead th {\n",
       "        text-align: right;\n",
       "    }\n",
       "</style>\n",
       "<table border=\"1\" class=\"dataframe\">\n",
       "  <thead>\n",
       "    <tr style=\"text-align: right;\">\n",
       "      <th></th>\n",
       "      <th>Q9_Average</th>\n",
       "      <th>Number of Responses</th>\n",
       "      <th>Cumulative Percentage</th>\n",
       "    </tr>\n",
       "    <tr>\n",
       "      <th>Q3</th>\n",
       "      <th></th>\n",
       "      <th></th>\n",
       "      <th></th>\n",
       "    </tr>\n",
       "  </thead>\n",
       "  <tbody>\n",
       "    <tr>\n",
       "      <th>United States of America</th>\n",
       "      <td>99.124547</td>\n",
       "      <td>3035</td>\n",
       "      <td>21.703375</td>\n",
       "    </tr>\n",
       "    <tr>\n",
       "      <th>India</th>\n",
       "      <td>22.211884</td>\n",
       "      <td>2171</td>\n",
       "      <td>37.228261</td>\n",
       "    </tr>\n",
       "    <tr>\n",
       "      <th>China</th>\n",
       "      <td>22.798235</td>\n",
       "      <td>793</td>\n",
       "      <td>42.899027</td>\n",
       "    </tr>\n",
       "    <tr>\n",
       "      <th>Other</th>\n",
       "      <td>27.555377</td>\n",
       "      <td>623</td>\n",
       "      <td>47.354119</td>\n",
       "    </tr>\n",
       "    <tr>\n",
       "      <th>Russia</th>\n",
       "      <td>23.251418</td>\n",
       "      <td>529</td>\n",
       "      <td>51.137014</td>\n",
       "    </tr>\n",
       "  </tbody>\n",
       "</table>\n",
       "</div>"
      ],
      "text/plain": [
       "                          Q9_Average  Number of Responses  \\\n",
       "Q3                                                          \n",
       "United States of America   99.124547                 3035   \n",
       "India                      22.211884                 2171   \n",
       "China                      22.798235                  793   \n",
       "Other                      27.555377                  623   \n",
       "Russia                     23.251418                  529   \n",
       "\n",
       "                          Cumulative Percentage  \n",
       "Q3                                               \n",
       "United States of America              21.703375  \n",
       "India                                 37.228261  \n",
       "China                                 42.899027  \n",
       "Other                                 47.354119  \n",
       "Russia                                51.137014  "
      ]
     },
     "execution_count": 277,
     "metadata": {},
     "output_type": "execute_result"
    }
   ],
   "source": [
    "perCountryAverage.drop(columns=['Pct of Total','Country']).head()"
   ]
  },
  {
   "cell_type": "code",
   "execution_count": 278,
   "metadata": {},
   "outputs": [
    {
     "data": {
      "text/plain": [
       "57"
      ]
     },
     "execution_count": 278,
     "metadata": {},
     "output_type": "execute_result"
    }
   ],
   "source": [
    "len(perCountryAverage['Country'])"
   ]
  },
  {
   "cell_type": "markdown",
   "metadata": {},
   "source": [
    "#### Highest Education"
   ]
  },
  {
   "cell_type": "markdown",
   "metadata": {},
   "source": [
    "First, we process the rows that do not disclose their highest education. The majority rule is applied based on that age group. In most age groups, number of people with a master degree dominates, and for 18-21 age group, bachelor degree dominates as expected, and for 60-69 and 70-79, number of doctoral degree dominate. For the case of 80+, it is a tie between doctoral and master degree, and it is assigned to master degree arbitrarily, and this would not affect the result significantly, since the sample size is very very small."
   ]
  },
  {
   "cell_type": "code",
   "execution_count": 279,
   "metadata": {
    "scrolled": false
   },
   "outputs": [],
   "source": [
    "guessByAge = {'18-21':'Bachelor’s degree', '60-69':'Doctoral degree', '70-79':'Doctoral degree'}"
   ]
  },
  {
   "cell_type": "code",
   "execution_count": 280,
   "metadata": {},
   "outputs": [],
   "source": [
    "def guessHighestEducation(row, guessByAge):\n",
    "    if row.Q4 == 'I prefer not to answer':\n",
    "        return guessByAge.get(row.Q2,'Master’s degree')\n",
    "    else:\n",
    "        return row.Q4\n",
    "Salaries['Q4'] = Salaries.apply(lambda row: guessHighestEducation(row, guessByAge), axis=1)"
   ]
  },
  {
   "cell_type": "code",
   "execution_count": 281,
   "metadata": {
    "scrolled": true
   },
   "outputs": [
    {
     "data": {
      "text/html": [
       "<div>\n",
       "<style scoped>\n",
       "    .dataframe tbody tr th:only-of-type {\n",
       "        vertical-align: middle;\n",
       "    }\n",
       "\n",
       "    .dataframe tbody tr th {\n",
       "        vertical-align: top;\n",
       "    }\n",
       "\n",
       "    .dataframe thead th {\n",
       "        text-align: right;\n",
       "    }\n",
       "</style>\n",
       "<table border=\"1\" class=\"dataframe\">\n",
       "  <thead>\n",
       "    <tr style=\"text-align: right;\">\n",
       "      <th></th>\n",
       "      <th>Duration</th>\n",
       "      <th>Q1</th>\n",
       "      <th>Q2</th>\n",
       "      <th>Q3</th>\n",
       "      <th>Q4</th>\n",
       "      <th>Q5</th>\n",
       "      <th>Q6</th>\n",
       "      <th>Q7</th>\n",
       "      <th>Q8</th>\n",
       "      <th>Q9</th>\n",
       "      <th>...</th>\n",
       "      <th>Q50_Part_2</th>\n",
       "      <th>Q50_Part_3</th>\n",
       "      <th>Q50_Part_4</th>\n",
       "      <th>Q50_Part_5</th>\n",
       "      <th>Q50_Part_6</th>\n",
       "      <th>Q50_Part_7</th>\n",
       "      <th>Q50_Part_8</th>\n",
       "      <th>index</th>\n",
       "      <th>Q9_Average</th>\n",
       "      <th>IncludeCountry</th>\n",
       "    </tr>\n",
       "  </thead>\n",
       "  <tbody>\n",
       "  </tbody>\n",
       "</table>\n",
       "<p>0 rows × 363 columns</p>\n",
       "</div>"
      ],
      "text/plain": [
       "Empty DataFrame\n",
       "Columns: [Duration, Q1, Q2, Q3, Q4, Q5, Q6, Q7, Q8, Q9, Q10, Q11_Part_1, Q11_Part_2, Q11_Part_3, Q11_Part_4, Q11_Part_5, Q11_Part_6, Q11_Part_7, Q12_MULTIPLE_CHOICE, Q13_Part_1, Q13_Part_2, Q13_Part_3, Q13_Part_4, Q13_Part_5, Q13_Part_6, Q13_Part_7, Q13_Part_8, Q13_Part_9, Q13_Part_10, Q13_Part_11, Q13_Part_12, Q13_Part_13, Q13_Part_14, Q13_Part_15, Q14_Part_1, Q14_Part_2, Q14_Part_3, Q14_Part_4, Q14_Part_5, Q14_Part_6, Q14_Part_7, Q14_Part_8, Q14_Part_9, Q14_Part_10, Q14_Part_11, Q15_Part_1, Q15_Part_2, Q15_Part_3, Q15_Part_4, Q15_Part_5, Q15_Part_6, Q15_Part_7, Q16_Part_1, Q16_Part_2, Q16_Part_3, Q16_Part_4, Q16_Part_5, Q16_Part_6, Q16_Part_7, Q16_Part_8, Q16_Part_9, Q16_Part_10, Q16_Part_11, Q16_Part_12, Q16_Part_13, Q16_Part_14, Q16_Part_15, Q16_Part_16, Q16_Part_17, Q16_Part_18, Q17, Q18, Q19_Part_1, Q19_Part_2, Q19_Part_3, Q19_Part_4, Q19_Part_5, Q19_Part_6, Q19_Part_7, Q19_Part_8, Q19_Part_9, Q19_Part_10, Q19_Part_11, Q19_Part_12, Q19_Part_13, Q19_Part_14, Q19_Part_15, Q19_Part_16, Q19_Part_17, Q19_Part_18, Q19_Part_19, Q20, Q21_Part_1, Q21_Part_2, Q21_Part_3, Q21_Part_4, Q21_Part_5, Q21_Part_6, Q21_Part_7, Q21_Part_8, ...]\n",
       "Index: []\n",
       "\n",
       "[0 rows x 363 columns]"
      ]
     },
     "execution_count": 281,
     "metadata": {},
     "output_type": "execute_result"
    }
   ],
   "source": [
    "Salaries[Salaries.Q4=='I prefer not to answer'].head()"
   ]
  },
  {
   "cell_type": "code",
   "execution_count": 282,
   "metadata": {
    "scrolled": true
   },
   "outputs": [
    {
     "data": {
      "text/plain": [
       "array(['Master’s degree', 'Doctoral degree', 'Bachelor’s degree',\n",
       "       'Professional degree',\n",
       "       'Some college/university study without earning a bachelor’s degree',\n",
       "       'No formal education past high school'], dtype=object)"
      ]
     },
     "execution_count": 282,
     "metadata": {},
     "output_type": "execute_result"
    }
   ],
   "source": [
    "Salaries.Q4.unique()"
   ]
  },
  {
   "cell_type": "code",
   "execution_count": 283,
   "metadata": {},
   "outputs": [
    {
     "data": {
      "image/png": "[encoded data removed]",
      "text/plain": [
       "<Figure size 1152x576 with 1 Axes>"
      ]
     },
     "metadata": {
      "needs_background": "light"
     },
     "output_type": "display_data"
    }
   ],
   "source": [
    "plt.figure(figsize=(16,8))\n",
    "ax = sns.countplot(x=Salaries.Q9_Average*1000, hue=Salaries.Q4, data=Salaries)\n",
    "ax.set_xticklabels(ax.get_xticklabels(), rotation=40, ha=\"right\")\n",
    "plt.tight_layout()\n",
    "plt.xlabel('Salary Group')\n",
    "plt.ylabel('Frequency')\n",
    "plt.title('Number of Different Education Counts in each salary group')\n",
    "plt.show()"
   ]
  },
  {
   "cell_type": "markdown",
   "metadata": {},
   "source": [
    "#### Years of Experience"
   ]
  },
  {
   "cell_type": "code",
   "execution_count": 284,
   "metadata": {},
   "outputs": [],
   "source": [
    "def convertYearExp(row):\n",
    "    yearExp = str(row['Q8'])\n",
    "    if '+' in yearExp:\n",
    "        average = 30\n",
    "    else:\n",
    "        begin, end = yearExp.split('-')\n",
    "        begin = int(begin)\n",
    "        end = int(end.split(',')[0])\n",
    "        average = (begin+end)/2\n",
    "    return int(average)"
   ]
  },
  {
   "cell_type": "markdown",
   "metadata": {},
   "source": [
    "It is inspected that 61 rows have years of experience as Nan, and 54 of them either indicate they are students for Q6 (most similar title to your current role) or Q7 (your current employer industry), thus 0-1 years of experience is assigned to these 54 rows. The rest 7 rows are very hard to infer, and they belong to very different age group, or they have significantly differnt salaries. Thus, these rows are excluded."
   ]
  },
  {
   "cell_type": "code",
   "execution_count": 285,
   "metadata": {
    "scrolled": true
   },
   "outputs": [
    {
     "name": "stdout",
     "output_type": "stream",
     "text": [
      "61\n",
      "54\n"
     ]
    }
   ],
   "source": [
    "print(len(Salaries[Salaries['Q8'].isnull()]))\n",
    "print(len(Salaries[(Salaries['Q8'].isnull()) & ((Salaries['Q7']=='I am a student') | (Salaries['Q6']=='Student'))]))"
   ]
  },
  {
   "cell_type": "code",
   "execution_count": 286,
   "metadata": {},
   "outputs": [],
   "source": [
    "Salaries = Salaries.drop(Salaries[(Salaries['Q8'].isnull()) & (Salaries['Q7']!='I am a student') & (Salaries['Q6']!='Student')].index)\n",
    "Salaries.loc[Salaries['Q8'].isnull(), 'Q8'] = '0-1'"
   ]
  },
  {
   "cell_type": "code",
   "execution_count": 287,
   "metadata": {
    "scrolled": true
   },
   "outputs": [],
   "source": [
    "Salaries['Q8_Average'] = Salaries.apply(lambda row: convertYearExp(row),axis=1)"
   ]
  },
  {
   "cell_type": "code",
   "execution_count": 288,
   "metadata": {
    "scrolled": false
   },
   "outputs": [
    {
     "data": {
      "text/html": [
       "<div>\n",
       "<style scoped>\n",
       "    .dataframe tbody tr th:only-of-type {\n",
       "        vertical-align: middle;\n",
       "    }\n",
       "\n",
       "    .dataframe tbody tr th {\n",
       "        vertical-align: top;\n",
       "    }\n",
       "\n",
       "    .dataframe thead tr th {\n",
       "        text-align: left;\n",
       "    }\n",
       "\n",
       "    .dataframe thead tr:last-of-type th {\n",
       "        text-align: right;\n",
       "    }\n",
       "</style>\n",
       "<table border=\"1\" class=\"dataframe\">\n",
       "  <thead>\n",
       "    <tr>\n",
       "      <th></th>\n",
       "      <th colspan=\"2\" halign=\"left\">Q9_Average</th>\n",
       "    </tr>\n",
       "    <tr>\n",
       "      <th></th>\n",
       "      <th>count</th>\n",
       "      <th>mean</th>\n",
       "    </tr>\n",
       "    <tr>\n",
       "      <th>Q8_Average</th>\n",
       "      <th></th>\n",
       "      <th></th>\n",
       "    </tr>\n",
       "  </thead>\n",
       "  <tbody>\n",
       "    <tr>\n",
       "      <th>0</th>\n",
       "      <td>3067</td>\n",
       "      <td>33.820672</td>\n",
       "    </tr>\n",
       "    <tr>\n",
       "      <th>1</th>\n",
       "      <td>2229</td>\n",
       "      <td>42.363840</td>\n",
       "    </tr>\n",
       "    <tr>\n",
       "      <th>2</th>\n",
       "      <td>1520</td>\n",
       "      <td>49.124342</td>\n",
       "    </tr>\n",
       "    <tr>\n",
       "      <th>3</th>\n",
       "      <td>1035</td>\n",
       "      <td>50.258937</td>\n",
       "    </tr>\n",
       "    <tr>\n",
       "      <th>4</th>\n",
       "      <td>904</td>\n",
       "      <td>58.092920</td>\n",
       "    </tr>\n",
       "    <tr>\n",
       "      <th>7</th>\n",
       "      <td>1571</td>\n",
       "      <td>67.720560</td>\n",
       "    </tr>\n",
       "    <tr>\n",
       "      <th>12</th>\n",
       "      <td>902</td>\n",
       "      <td>80.552106</td>\n",
       "    </tr>\n",
       "    <tr>\n",
       "      <th>17</th>\n",
       "      <td>474</td>\n",
       "      <td>80.377637</td>\n",
       "    </tr>\n",
       "    <tr>\n",
       "      <th>22</th>\n",
       "      <td>224</td>\n",
       "      <td>105.209821</td>\n",
       "    </tr>\n",
       "    <tr>\n",
       "      <th>27</th>\n",
       "      <td>97</td>\n",
       "      <td>133.340206</td>\n",
       "    </tr>\n",
       "    <tr>\n",
       "      <th>30</th>\n",
       "      <td>114</td>\n",
       "      <td>136.438596</td>\n",
       "    </tr>\n",
       "  </tbody>\n",
       "</table>\n",
       "</div>"
      ],
      "text/plain": [
       "           Q9_Average            \n",
       "                count        mean\n",
       "Q8_Average                       \n",
       "0                3067   33.820672\n",
       "1                2229   42.363840\n",
       "2                1520   49.124342\n",
       "3                1035   50.258937\n",
       "4                 904   58.092920\n",
       "7                1571   67.720560\n",
       "12                902   80.552106\n",
       "17                474   80.377637\n",
       "22                224  105.209821\n",
       "27                 97  133.340206\n",
       "30                114  136.438596"
      ]
     },
     "execution_count": 288,
     "metadata": {},
     "output_type": "execute_result"
    }
   ],
   "source": [
    "Salaries[['Q8_Average', 'Q9_Average']].groupby('Q8_Average',as_index=False).agg(['count', 'mean'])"
   ]
  },
  {
   "cell_type": "code",
   "execution_count": 289,
   "metadata": {},
   "outputs": [
    {
     "data": {
      "image/png": "[encoded data removed]",
      "text/plain": [
       "<Figure size 720x432 with 1 Axes>"
      ]
     },
     "metadata": {
      "needs_background": "light"
     },
     "output_type": "display_data"
    }
   ],
   "source": [
    "plt.figure(figsize=(10,6))\n",
    "ageCompMean = Salaries[['Q8_Average', 'Q9_Average']].groupby('Q8_Average',as_index=False).mean()\n",
    "sns.barplot(x='Q8_Average',y='Q9_Average', data=ageCompMean)\n",
    "plt.xlabel('Year of Experience')\n",
    "plt.ylabel('Average Salary (Thousands)')\n",
    "plt.title('Relationship between year of experience and average salary')\n",
    "plt.show()"
   ]
  },
  {
   "cell_type": "markdown",
   "metadata": {},
   "source": [
    "#### Current Role"
   ]
  },
  {
   "cell_type": "code",
   "execution_count": 290,
   "metadata": {
    "scrolled": true
   },
   "outputs": [
    {
     "data": {
      "text/html": [
       "<div>\n",
       "<style scoped>\n",
       "    .dataframe tbody tr th:only-of-type {\n",
       "        vertical-align: middle;\n",
       "    }\n",
       "\n",
       "    .dataframe tbody tr th {\n",
       "        vertical-align: top;\n",
       "    }\n",
       "\n",
       "    .dataframe thead tr th {\n",
       "        text-align: left;\n",
       "    }\n",
       "\n",
       "    .dataframe thead tr:last-of-type th {\n",
       "        text-align: right;\n",
       "    }\n",
       "</style>\n",
       "<table border=\"1\" class=\"dataframe\">\n",
       "  <thead>\n",
       "    <tr>\n",
       "      <th></th>\n",
       "      <th colspan=\"2\" halign=\"left\">Q9_Average</th>\n",
       "    </tr>\n",
       "    <tr>\n",
       "      <th></th>\n",
       "      <th>count</th>\n",
       "      <th>mean</th>\n",
       "    </tr>\n",
       "    <tr>\n",
       "      <th>Q6</th>\n",
       "      <th></th>\n",
       "      <th></th>\n",
       "    </tr>\n",
       "  </thead>\n",
       "  <tbody>\n",
       "    <tr>\n",
       "      <th>Business Analyst</th>\n",
       "      <td>474</td>\n",
       "      <td>47.170886</td>\n",
       "    </tr>\n",
       "    <tr>\n",
       "      <th>Chief Officer</th>\n",
       "      <td>202</td>\n",
       "      <td>132.183168</td>\n",
       "    </tr>\n",
       "    <tr>\n",
       "      <th>Consultant</th>\n",
       "      <td>455</td>\n",
       "      <td>77.145055</td>\n",
       "    </tr>\n",
       "    <tr>\n",
       "      <th>DBA/Database Engineer</th>\n",
       "      <td>99</td>\n",
       "      <td>50.000000</td>\n",
       "    </tr>\n",
       "    <tr>\n",
       "      <th>Data Analyst</th>\n",
       "      <td>1145</td>\n",
       "      <td>43.640175</td>\n",
       "    </tr>\n",
       "    <tr>\n",
       "      <th>Data Engineer</th>\n",
       "      <td>443</td>\n",
       "      <td>59.428894</td>\n",
       "    </tr>\n",
       "    <tr>\n",
       "      <th>Data Journalist</th>\n",
       "      <td>7</td>\n",
       "      <td>84.142857</td>\n",
       "    </tr>\n",
       "    <tr>\n",
       "      <th>Data Scientist</th>\n",
       "      <td>2580</td>\n",
       "      <td>69.555426</td>\n",
       "    </tr>\n",
       "    <tr>\n",
       "      <th>Developer Advocate</th>\n",
       "      <td>62</td>\n",
       "      <td>55.870968</td>\n",
       "    </tr>\n",
       "    <tr>\n",
       "      <th>Manager</th>\n",
       "      <td>375</td>\n",
       "      <td>98.824000</td>\n",
       "    </tr>\n",
       "    <tr>\n",
       "      <th>Marketing Analyst</th>\n",
       "      <td>71</td>\n",
       "      <td>50.028169</td>\n",
       "    </tr>\n",
       "    <tr>\n",
       "      <th>Other</th>\n",
       "      <td>809</td>\n",
       "      <td>61.234858</td>\n",
       "    </tr>\n",
       "    <tr>\n",
       "      <th>Principal Investigator</th>\n",
       "      <td>64</td>\n",
       "      <td>103.328125</td>\n",
       "    </tr>\n",
       "    <tr>\n",
       "      <th>Product/Project Manager</th>\n",
       "      <td>265</td>\n",
       "      <td>72.905660</td>\n",
       "    </tr>\n",
       "    <tr>\n",
       "      <th>Research Assistant</th>\n",
       "      <td>329</td>\n",
       "      <td>23.930091</td>\n",
       "    </tr>\n",
       "    <tr>\n",
       "      <th>Research Scientist</th>\n",
       "      <td>727</td>\n",
       "      <td>58.115543</td>\n",
       "    </tr>\n",
       "    <tr>\n",
       "      <th>Salesperson</th>\n",
       "      <td>64</td>\n",
       "      <td>57.218750</td>\n",
       "    </tr>\n",
       "    <tr>\n",
       "      <th>Software Engineer</th>\n",
       "      <td>1814</td>\n",
       "      <td>52.882029</td>\n",
       "    </tr>\n",
       "    <tr>\n",
       "      <th>Statistician</th>\n",
       "      <td>139</td>\n",
       "      <td>54.597122</td>\n",
       "    </tr>\n",
       "    <tr>\n",
       "      <th>Student</th>\n",
       "      <td>2013</td>\n",
       "      <td>12.053651</td>\n",
       "    </tr>\n",
       "  </tbody>\n",
       "</table>\n",
       "</div>"
      ],
      "text/plain": [
       "                        Q9_Average            \n",
       "                             count        mean\n",
       "Q6                                            \n",
       "Business Analyst               474   47.170886\n",
       "Chief Officer                  202  132.183168\n",
       "Consultant                     455   77.145055\n",
       "DBA/Database Engineer           99   50.000000\n",
       "Data Analyst                  1145   43.640175\n",
       "Data Engineer                  443   59.428894\n",
       "Data Journalist                  7   84.142857\n",
       "Data Scientist                2580   69.555426\n",
       "Developer Advocate              62   55.870968\n",
       "Manager                        375   98.824000\n",
       "Marketing Analyst               71   50.028169\n",
       "Other                          809   61.234858\n",
       "Principal Investigator          64  103.328125\n",
       "Product/Project Manager        265   72.905660\n",
       "Research Assistant             329   23.930091\n",
       "Research Scientist             727   58.115543\n",
       "Salesperson                     64   57.218750\n",
       "Software Engineer             1814   52.882029\n",
       "Statistician                   139   54.597122\n",
       "Student                       2013   12.053651"
      ]
     },
     "execution_count": 290,
     "metadata": {},
     "output_type": "execute_result"
    }
   ],
   "source": [
    "Salaries[['Q6', 'Q9_Average']].groupby('Q6',as_index=False).agg(['count', 'mean'])"
   ]
  },
  {
   "cell_type": "code",
   "execution_count": 291,
   "metadata": {
    "scrolled": false
   },
   "outputs": [
    {
     "data": {
      "image/png": "[encoded data removed]",
      "text/plain": [
       "<Figure size 720x432 with 1 Axes>"
      ]
     },
     "metadata": {
      "needs_background": "light"
     },
     "output_type": "display_data"
    }
   ],
   "source": [
    "roleMean = Salaries[['Q6', 'Q9_Average']].groupby('Q6',as_index=False).mean()\n",
    "roleMean = roleMean.sort_values(by=['Q9_Average'])\n",
    "plt.figure(figsize=(10,6))\n",
    "ax = sns.barplot(x='Q6',y='Q9_Average', data=roleMean)\n",
    "ax.set_xticklabels(ax.get_xticklabels(), rotation=40, ha=\"right\")\n",
    "plt.tight_layout()\n",
    "plt.xlabel('Title')\n",
    "plt.ylabel('Average Salary')\n",
    "plt.title('Average Salary for each profession')\n",
    "plt.show()"
   ]
  },
  {
   "cell_type": "markdown",
   "metadata": {},
   "source": [
    "#### Encoding"
   ]
  },
  {
   "cell_type": "markdown",
   "metadata": {},
   "source": [
    "From previous analysis, males tend to make more than females, so we would like to code 1 for males and 0 for females.\n",
    "It also shows there is a positive correlation between age and compensation. Thus an orderred relationship is used when encoding age group. I also code the countrie by the average income based on the responses. The higher the average, the bigger the label is assigned. For highest education, we do not have enough evidence of the order between formal education and informal education or professional degrees, so one-hot encoding is used. For most current position, from the plot above, it is seen that students tend to make least vs CEOs tend to make the most, so an ordered label is used to code this feature."
   ]
  },
  {
   "cell_type": "code",
   "execution_count": 292,
   "metadata": {},
   "outputs": [],
   "source": [
    "Q3Map = {}\n",
    "count = 56\n",
    "for country in perCountryAverage.sort_values(by='Q9_Average',ascending=False).index:\n",
    "    Q3Map[country] = count\n",
    "    count -= 1"
   ]
  },
  {
   "cell_type": "code",
   "execution_count": 293,
   "metadata": {},
   "outputs": [],
   "source": [
    "Q6Map = {}\n",
    "count = 0\n",
    "for role in roleMean.Q6.unique():\n",
    "    Q6Map[role] = count\n",
    "    count += 1"
   ]
  },
  {
   "cell_type": "code",
   "execution_count": 294,
   "metadata": {
    "scrolled": true
   },
   "outputs": [],
   "source": [
    "encodeGender = pd.DataFrame(Salaries['Q1'].replace({'Female':0, 'Male':1}))\n",
    "encodeAge = pd.DataFrame(Salaries['Q2'].astype('category').cat.codes, columns = ['age'])\n",
    "encodeCountry = pd.DataFrame((Salaries['Q3'].replace(Q3Map)))\n",
    "encodeEducation = pd.get_dummies(Salaries['Q4'])\n",
    "encodeRole = pd.DataFrame((Salaries['Q6'].replace(Q6Map)))"
   ]
  },
  {
   "cell_type": "markdown",
   "metadata": {},
   "source": [
    "Replace Nan with 0% of my time for Question 23. Q23 askes percentage of time spent in coding, and when I check the profession who leaves Q23 as Nan, most of them are non-computer related."
   ]
  },
  {
   "cell_type": "code",
   "execution_count": 295,
   "metadata": {},
   "outputs": [],
   "source": [
    "Q23Map = {'0% of my time':0, '1% to 25% of my time':1, '100% of my time':5, \\\n",
    "          '25% to 49% of my time':2, '50% to 74% of my time':3, '75% to 99% of my time':4}\n",
    "Salaries['Q23'] = Salaries['Q23'].fillna('0% of my time')\n",
    "Q23Code = Salaries['Q23'].replace(Q23Map)"
   ]
  },
  {
   "cell_type": "markdown",
   "metadata": {},
   "source": [
    "Since for most of rows which have empty entries in Q24, they also have empty entries in Q23. It confirms that those who left Q23 as empty have no or very little programming experience. We can safely replace empty cells in Q24 with '< 1 year'. Also, we will also replace those indicating no experience explicitly with '<1 year' as well."
   ]
  },
  {
   "cell_type": "code",
   "execution_count": 296,
   "metadata": {},
   "outputs": [],
   "source": [
    "Salaries['Q24'] = Salaries['Q24'].fillna('< 1 year')\n",
    "Salaries['Q24'] = Salaries['Q24'].replace({'I have never written code but I want to learn':'< 1 year'})\n",
    "Salaries['Q24'] = Salaries['Q24'].replace({'I have never written code and I do not want to learn':'< 1 year'})\n",
    "Q24Map = {'< 1 year':0, '1-2 years':1, '3-5 years':2, '5-10 years':3, \\\n",
    "          '10-20 years':4, '20-30 years':5, '30-40 years':6, '40+ years':7}\n",
    "Q24Code = Salaries['Q24'].replace(Q24Map)"
   ]
  },
  {
   "cell_type": "markdown",
   "metadata": {},
   "source": [
    "The same logic applies to Q25, since machine learning is an expertise which not everyone has touched it. So for those people who leave it as empty, I replace it with '< 1 year'"
   ]
  },
  {
   "cell_type": "code",
   "execution_count": 297,
   "metadata": {},
   "outputs": [],
   "source": [
    "Salaries['Q25'] = Salaries['Q25'].fillna('< 1 year')\n",
    "Salaries['Q25'] = Salaries['Q25'].replace({'I have never studied machine learning but plan to learn in the future':'< 1 year'})\n",
    "Salaries['Q25'] = Salaries['Q25'].replace({'I have never studied machine learning and I do not plan to':'< 1 year'})\n",
    "Q25Map = {'< 1 year':0, '1-2 years':1, '2-3 years':2, '3-4 years':3,\\\n",
    "          '4-5 years':4, '5-10 years':5, '10-15 years':6, '20+ years':7}\n",
    "Q25Code = Salaries['Q25'].replace(Q25Map)"
   ]
  },
  {
   "cell_type": "code",
   "execution_count": 298,
   "metadata": {},
   "outputs": [],
   "source": [
    "fillNanList = ['Q34_Part_1','Q34_Part_2','Q34_Part_3','Q34_Part_4','Q34_Part_5','Q34_Part_6',\\\n",
    "              'Q35_Part_1', 'Q35_Part_2','Q35_Part_3', 'Q35_Part_4','Q35_Part_5', 'Q35_Part_6',\\\n",
    "              'Q43', 'Q46']\n",
    "for fillNanCol in fillNanList:\n",
    "    Salaries[fillNanCol] = Salaries[fillNanCol].fillna('0')"
   ]
  },
  {
   "cell_type": "code",
   "execution_count": 299,
   "metadata": {},
   "outputs": [],
   "source": [
    "def convertStrToInt(element):\n",
    "    intNum = int(float(element))\n",
    "    return 0 if intNum<0 else intNum"
   ]
  },
  {
   "cell_type": "code",
   "execution_count": 300,
   "metadata": {},
   "outputs": [],
   "source": [
    "convertInt = ['Q34_Part_1','Q34_Part_2','Q34_Part_3','Q34_Part_4','Q34_Part_5','Q34_Part_6',\\\n",
    "              'Q35_Part_1', 'Q35_Part_2','Q35_Part_3', 'Q35_Part_4','Q35_Part_5', 'Q35_Part_6']\n",
    "for col in convertInt:\n",
    "    Salaries[col] = Salaries.apply(lambda row: convertStrToInt(row[col]), axis=1)"
   ]
  },
  {
   "cell_type": "code",
   "execution_count": 301,
   "metadata": {},
   "outputs": [],
   "source": [
    "def convertRange(element):\n",
    "    if element in ['0', '0.0']:\n",
    "        return 0\n",
    "    else:\n",
    "        begin, end = element.split('-')\n",
    "        return (int(begin)+int(end))/2"
   ]
  },
  {
   "cell_type": "code",
   "execution_count": 302,
   "metadata": {},
   "outputs": [],
   "source": [
    "Q43_Average = Salaries.apply(lambda row: convertRange(row['Q43']),axis=1)\n",
    "Q46_Average = Salaries.apply(lambda row: convertRange(row['Q46']),axis=1)"
   ]
  },
  {
   "cell_type": "markdown",
   "metadata": {},
   "source": [
    "### Feature Selection"
   ]
  },
  {
   "cell_type": "markdown",
   "metadata": {},
   "source": [
    "There are three parts of the feature sets under consideration. The first set includes some of the first 10 questions, such as gender, age and etc., which are studied above. The second set includes text response such as \"what programming language use the most\" type of question, and the third set include responses that are expected a percentage or percentage range."
   ]
  },
  {
   "cell_type": "code",
   "execution_count": 305,
   "metadata": {
    "scrolled": true
   },
   "outputs": [],
   "source": [
    "SalariesCopy = Salaries.drop(columns=['Duration','Q1', 'Q2', 'Q3', 'Q4', 'Q5', 'Q6', 'Q7', 'Q8', \\\n",
    "                               'Q9', 'index', 'Q9_Average', 'IncludeCountry', 'Q8_Average'])\n",
    "buildList = SalariesCopy.columns\n",
    "#buildList = buildList.drop(['Unnamed: 0'])\n",
    "bucket = []\n",
    "questNumber = 10\n",
    "elementList = []\n",
    "for col in buildList:\n",
    "    splitList = col.split('_')\n",
    "    if int(splitList[0][1:]) == questNumber:\n",
    "        elementList.append(col)\n",
    "    else:\n",
    "        bucket.append(elementList)\n",
    "        questNumber += 1\n",
    "        elementList = []\n",
    "        elementList.append(col)\n",
    "bucket.append(elementList)\n",
    "excludeList = ['Q23', 'Q24', 'Q25', 'Q34', 'Q35', 'Q43', 'Q46']"
   ]
  },
  {
   "cell_type": "code",
   "execution_count": 306,
   "metadata": {
    "scrolled": true
   },
   "outputs": [],
   "source": [
    "listOfPd = {}\n",
    "for each in bucket:\n",
    "    splitList = each[0].split('_')\n",
    "    if splitList[0] in excludeList:\n",
    "        continue\n",
    "    else:\n",
    "        listOfPd['encode'+str(splitList[0])] = pd.get_dummies(SalariesCopy[each])\n",
    "X_raw = pd.concat([listOfPd[key] for key in listOfPd.keys()], axis=1) \n",
    "y = pd.DataFrame(Salaries['Q9'].astype('category').cat.codes, columns = ['Compensation'])"
   ]
  },
  {
   "cell_type": "markdown",
   "metadata": {},
   "source": [
    "X has 523 columns, which are too many to take as features. A feature filtered method used here is SelectKBest based on chi square static. Since dependent and indepedent are categorical data, so chi square is choosen. How many features here are choosen can be taken as a hyperparameter, which hopefully can improve the accuracy by tuning it."
   ]
  },
  {
   "cell_type": "markdown",
   "metadata": {},
   "source": [
    "A quick test is to choose the top 20 features based on chi square, and demonstrate them here. It shows whether the respondent has indicate a specific option in questions Q10, Q11, Q15, Q21, Q27, Q29, Q30, Q31, Q38, Q42, Q47 is very important. "
   ]
  },
  {
   "cell_type": "code",
   "execution_count": 307,
   "metadata": {
    "scrolled": true
   },
   "outputs": [
    {
     "name": "stdout",
     "output_type": "stream",
     "text": [
      "Q10_I do not know\n",
      "Q10_We have well established ML methods (i.e., models in production for more than 2 years)\n",
      "Q11_Part_1_Analyze and understand data to influence product or business decisions\n",
      "Q11_Part_3_Build and/or run the data infrastructure that my business uses for storing, analyzing, and operationalizing data\n",
      "Q11_Part_4_Build prototypes to explore applying machine learning to new areas\n",
      "Q15_Part_2_Amazon Web Services (AWS)\n",
      "Q21_Part_4_Shiny\n",
      "Q21_Part_5_D3\n",
      "Q27_Part_1_AWS Elastic Compute Cloud (EC2)\n",
      "Q27_Part_6_AWS Lambda\n",
      "Q29_Part_1_AWS Relational Database Service\n",
      "Q29_Part_9_Microsoft SQL Server\n",
      "Q29_Part_11_PostgresSQL\n",
      "Q30_Part_9_AWS Redshift\n",
      "Q31_Part_10_Time Series Data\n",
      "Q38_Part_10_FiveThirtyEight.com\n",
      "Q42_Part_1_Revenue and/or business goals\n",
      "Q47_Part_1_Examine individual model coefficients\n",
      "Q47_Part_3_Examine feature importances\n",
      "Q47_Part_10_Sensitivity analysis/perturbation importance\n"
     ]
    }
   ],
   "source": [
    "test = SelectKBest(score_func=chi2, k=20)\n",
    "fit = test.fit(X_raw, y)\n",
    "# Summarize scores\n",
    "np.set_printoptions(precision=3)\n",
    "#print(fit.scores_)\n",
    "X = fit.transform(X_raw)\n",
    "X = pd.DataFrame(X)\n",
    "idx = 0\n",
    "for bo in test.get_support():\n",
    "    if bo:\n",
    "        print(X_raw.columns[idx])\n",
    "    idx+=1"
   ]
  },
  {
   "cell_type": "code",
   "execution_count": 308,
   "metadata": {
    "scrolled": false
   },
   "outputs": [],
   "source": [
    "SalariesCopy = Salaries.copy()\n",
    "SalariesCopy['Q23Code'] = Q23Code\n",
    "SalariesCopy['Q24Code'] = Q24Code\n",
    "SalariesCopy['Q25Code'] = Q25Code\n",
    "SalariesCopy['Q43_Average'] = Q43_Average\n",
    "SalariesCopy['Q46_Average'] = Q46_Average\n",
    "listToAdd = ['Q23Code', 'Q24Code', 'Q25Code', \\\n",
    "             'Q34_Part_1','Q34_Part_2','Q34_Part_3','Q34_Part_4','Q34_Part_5','Q34_Part_6',\\\n",
    "             'Q35_Part_1', 'Q35_Part_2','Q35_Part_3', 'Q35_Part_4','Q35_Part_5', 'Q35_Part_6',\\\n",
    "             'Q43_Average', 'Q46_Average']"
   ]
  },
  {
   "cell_type": "markdown",
   "metadata": {},
   "source": [
    "We combine the feature sets from chi square test, with the selected few questions from the first 10 questions and some questions that come with percentage or percentage range answers."
   ]
  },
  {
   "cell_type": "code",
   "execution_count": 309,
   "metadata": {},
   "outputs": [],
   "source": [
    "firstPart = pd.concat([encodeGender, encodeAge, encodeCountry, encodeEducation, \\\n",
    "                             encodeRole, Salaries['Q8_Average']], axis=1)\n",
    "firstPart.reset_index(inplace=True)\n",
    "firstPart = firstPart.drop(columns=['index'])\n",
    "secondPart = SalariesCopy[listToAdd].copy()\n",
    "secondPart.reset_index(inplace=True)\n",
    "secondPart = secondPart.drop(columns=['index'])\n",
    "X = pd.concat([firstPart, secondPart, X], axis=1)\n",
    "y.reset_index(inplace=True)\n",
    "y = y.drop(columns=['index'])"
   ]
  },
  {
   "cell_type": "code",
   "execution_count": 310,
   "metadata": {
    "scrolled": false
   },
   "outputs": [
    {
     "data": {
      "text/plain": [
       "(12137, 28)"
      ]
     },
     "execution_count": 310,
     "metadata": {},
     "output_type": "execute_result"
    }
   ],
   "source": [
    "preliminary = pd.concat([firstPart,secondPart], axis=1)\n",
    "preliminary.shape"
   ]
  },
  {
   "cell_type": "markdown",
   "metadata": {},
   "source": [
    "I also use Recursive Feature Elimination to select a few features from the combination of first and second part. How this algorithm works is that it perform a model fit on all the possible feature combinations, and choose the number of features specified that gives the best result. This algo needs to perform on powerful computer due to its computational work, and that is why not all the features are selected in candidate pool. The demo below contains 28 features, and 14 of them intended to chose. I print out the all features that are choosen, and based on the algorithm, they are equally important. It can be seen, gender, age, country, highest education, current role, percentage of time coding, years of experience of analyzing data, years of experience in machine learning, and how much time devoted to model building are very important features when predicting salary."
   ]
  },
  {
   "cell_type": "code",
   "execution_count": 311,
   "metadata": {},
   "outputs": [
    {
     "name": "stdout",
     "output_type": "stream",
     "text": [
      "Num Features: 14\n",
      "Selected Features: [ True  True  True  True  True  True  True  True  True  True False  True\n",
      "  True  True False False  True False False False False False False False\n",
      " False False False False]\n",
      "Feature Ranking: [ 1  1  1  1  1  1  1  1  1  1  2  1  1  1 13  3  1  4  6  7 14 12 10 11\n",
      "  9  5  8 15]\n"
     ]
    }
   ],
   "source": [
    "# Feature extraction\n",
    "model = LogisticRegression()\n",
    "rfe = RFE(model, 14)\n",
    "fit = rfe.fit(preliminary, y)\n",
    "print(\"Num Features: %s\" % (fit.n_features_))\n",
    "print(\"Selected Features: %s\" % (fit.support_))\n",
    "print(\"Feature Ranking: %s\" % (fit.ranking_))"
   ]
  },
  {
   "cell_type": "code",
   "execution_count": 312,
   "metadata": {
    "scrolled": false
   },
   "outputs": [
    {
     "name": "stdout",
     "output_type": "stream",
     "text": [
      "Q1\n",
      "age\n",
      "Q3\n",
      "Bachelor’s degree\n",
      "Doctoral degree\n",
      "Master’s degree\n",
      "No formal education past high school\n",
      "Professional degree\n",
      "Some college/university study without earning a bachelor’s degree\n",
      "Q6\n",
      "Q23Code\n",
      "Q24Code\n",
      "Q25Code\n",
      "Q34_Part_3\n"
     ]
    }
   ],
   "source": [
    "idx = 0\n",
    "for bo in fit.support_:\n",
    "    if bo:\n",
    "        print(preliminary.columns[idx])\n",
    "    idx+=1"
   ]
  },
  {
   "cell_type": "markdown",
   "metadata": {},
   "source": [
    "### Model Implementation"
   ]
  },
  {
   "cell_type": "markdown",
   "metadata": {},
   "source": [
    "Logistic Regression model with solver 'lbfgs' is used, which could be one potential hyperparameter. As suggested in the assignment instruction, the 10 fold cross-validation is chosen. Before the data is passed to a logistic model to fit, two processes are applied. First is to scale the data, and the second one is to apply principal component analysis to reduce dimensionality. There are 18 different classes of compensitions, which are coded using number from 0 to 17. The accuracy is defined as the prediction has to exactly match the actual class with no error tolerate. For each fold, the accuracy of training data and testing data are recorded. At the end of the 10 folds, the mean and standard deviation of the accuracies are calculated and shown."
   ]
  },
  {
   "cell_type": "code",
   "execution_count": 313,
   "metadata": {
    "scrolled": true
   },
   "outputs": [
    {
     "name": "stdout",
     "output_type": "stream",
     "text": [
      "[[0.336 0.358 0.355 0.359 0.338 0.356 0.353 0.345 0.345 0.34 ]\n",
      " [0.457 0.248 0.254 0.241 0.426 0.259 0.29  0.345 0.35  0.418]]\n",
      "Average Training Accuracy: 34.8% Std Error(0.8%)\n",
      "Average Testing Accuracy: 32.9% Std Error(7.8%)\n"
     ]
    }
   ],
   "source": [
    "model = LogisticRegression(solver='lbfgs') \n",
    "#model = LogisticRegression(multi_class='ovr')\n",
    "#model = LogisticRegression(multi_class='multinomial', solver='lbfgs')\n",
    "scaler = StandardScaler()\n",
    "n_splits = 10\n",
    "kfold = KFold(n_splits=n_splits)\n",
    "kfold.get_n_splits(X)\n",
    "\n",
    "# Make an instance of the Model\n",
    "pca = PCA(0.95)\n",
    "\n",
    "accuracy = np.zeros((2,n_splits))\n",
    "np_idx = 0\n",
    "\n",
    "for train_idx, test_idx in kfold.split(X):\n",
    "    X_train, X_test = X.values[train_idx], X.values[test_idx]\n",
    "    y_train, y_test = y.values[train_idx], y.values[test_idx]\n",
    "    \n",
    "    X_train = scaler.fit_transform(X_train)\n",
    "    X_test = scaler.transform(X_test)\n",
    "    \n",
    "    X_train = pca.fit_transform(X_train)\n",
    "    X_test = pca.transform(X_test)\n",
    "    \n",
    "    model.fit(X_train, y_train)\n",
    "    \n",
    "    predictionsTrain = model.predict(X_train)\n",
    "    count = 0\n",
    "    for i in range(len(predictionsTrain)):\n",
    "        if (predictionsTrain[i] - y_train[i][0]) == 0:\n",
    "            count += 1 \n",
    "    ACCTrain = (count) / float(len(predictionsTrain))\n",
    "    accuracy[0, np_idx] = round(ACCTrain,3)\n",
    "    \n",
    "    predictionsTest = model.predict(X_test)\n",
    "    #print(model.predict_proba(X_test))\n",
    "    count = 0\n",
    "    for i in range(len(predictionsTest)):\n",
    "        if (predictionsTest[i] - y_test[i][0]) == 0:\n",
    "            count += 1 \n",
    "    ACCTest = (count) / float(len(predictionsTest))\n",
    "    accuracy[1, np_idx] = round(ACCTest,3)\n",
    "    \n",
    "    np_idx += 1\n",
    "print(accuracy)\n",
    "print (\"Average Training Accuracy: {}% Std Error({}%)\".format(round(np.mean(accuracy[0,:]),3)*100, round(np.std(accuracy[0,:]),3)*100))\n",
    "print (\"Average Testing Accuracy: {}% Std Error({}%)\".format(round(np.mean(accuracy[1,:]),3)*100, round(np.std(accuracy[1,:]),3)*100))"
   ]
  },
  {
   "cell_type": "markdown",
   "metadata": {},
   "source": [
    "After training the model, it can be used to predict individual data sample. The below is a demonstration, by calling function probabilityOfEachClass with the trained model, and the sample input, the function can output a list of probabilities that this sample belong to each of the 18 compensation group, and all of them sum to one as expected."
   ]
  },
  {
   "cell_type": "code",
   "execution_count": 314,
   "metadata": {},
   "outputs": [],
   "source": [
    "def probabilityOfEachClass(model, inputData):\n",
    "    return model.predict_proba(inputData)"
   ]
  },
  {
   "cell_type": "code",
   "execution_count": 315,
   "metadata": {},
   "outputs": [
    {
     "name": "stdout",
     "output_type": "stream",
     "text": [
      "[[0.502 0.224 0.005 0.002 0.001 0.103 0.001 0.004 0.064 0.001 0.025 0.001\n",
      "  0.021 0.002 0.019 0.009 0.006 0.009]]\n",
      "0.9999999999999999\n"
     ]
    }
   ],
   "source": [
    "probList = probabilityOfEachClass(model, [X_test[0]])\n",
    "print(probList)\n",
    "print(probList.sum())"
   ]
  },
  {
   "cell_type": "markdown",
   "metadata": {},
   "source": [
    "Based on the probability list, the 9th class with label 8 has the highest probability, thus the prediction is 8."
   ]
  },
  {
   "cell_type": "code",
   "execution_count": 316,
   "metadata": {
    "scrolled": true
   },
   "outputs": [
    {
     "name": "stdout",
     "output_type": "stream",
     "text": [
      "[0]\n"
     ]
    }
   ],
   "source": [
    "predicExample = model.predict([X_test[0]])\n",
    "print(predicExample)"
   ]
  },
  {
   "cell_type": "markdown",
   "metadata": {},
   "source": [
    "### Model Tuning"
   ]
  },
  {
   "cell_type": "markdown",
   "metadata": {},
   "source": [
    "There are four hyperparameters that can be tuned for this logistic model. Regularization parameter, solver, amount of variance explained in PCA, and number of features selected from chi-square statistical test. Due to the limited computational power, the grid search is applied for the first pair to find the optimal ones, then using the optimal ones to grid search the second pair of optimal values."
   ]
  },
  {
   "cell_type": "code",
   "execution_count": 317,
   "metadata": {},
   "outputs": [],
   "source": [
    "X_backup = X.copy()\n",
    "y_backup = y.copy()"
   ]
  },
  {
   "cell_type": "code",
   "execution_count": 101,
   "metadata": {},
   "outputs": [],
   "source": [
    "X=X_backup\n",
    "y=y_backup\n",
    "model = LogisticRegression()\n",
    "scaler = StandardScaler()\n",
    "kfold = KFold(n_splits=10)\n",
    "kfold.get_n_splits(X)\n",
    "\n",
    "# Make an instance of the Model\n",
    "pca = PCA(0.95)\n",
    "\n",
    "best_model = model\n",
    "best_params = {}\n",
    "best_accuracy = 0\n",
    "best_std = 0\n",
    "for C in [0.001,0.01,0.05,0.1,0.5,1,5,10, 100]:\n",
    "    for solver in ['newton-cg','lbfgs','liblinear','sag']:\n",
    "        model = LogisticRegression(C=C, solver=solver)\n",
    "        accuracy = np.zeros((2,n_splits))\n",
    "        np_idx = 0\n",
    "        \n",
    "        for train_idx, test_idx in kfold.split(X):\n",
    "            X_train, X_test = X.values[train_idx], X.values[test_idx]\n",
    "            y_train, y_test = y.values[train_idx], y.values[test_idx]\n",
    "\n",
    "            X_train = scaler.fit_transform(X_train)\n",
    "            X_test = scaler.transform(X_test)\n",
    "\n",
    "            X_train = pca.fit_transform(X_train)\n",
    "            X_test = pca.transform(X_test)\n",
    "\n",
    "            model.fit(X_train, y_train)\n",
    "\n",
    "            predictionsTrain = model.predict(X_train)\n",
    "            count = 0\n",
    "            for i in range(len(predictionsTrain)):\n",
    "                if (predictionsTrain[i] - y_train[i][0]) == 0:\n",
    "                    count += 1 \n",
    "            ACCTrain = (count) / float(len(predictionsTrain))\n",
    "            accuracy[0, np_idx] = round(ACCTrain,3)\n",
    "\n",
    "            predictionsTest = model.predict(X_test)\n",
    "            count = 0\n",
    "            for i in range(len(predictionsTest)):\n",
    "                if (predictionsTest[i] - y_test[i][0]) == 0:\n",
    "                    count += 1 \n",
    "            ACCTest = (count) / float(len(predictionsTest))\n",
    "            accuracy[1, np_idx] = round(ACCTest,3)\n",
    "\n",
    "            np_idx += 1\n",
    "            if np.mean(accuracy[1,:]) > best_accuracy:\n",
    "                best_model = model\n",
    "                best_params = {'C':C, 'solver':solver}\n",
    "                best_accuracy = np.mean(accuracy[1,:])\n",
    "                best_std = np.std(accuracy)\n",
    "    "
   ]
  },
  {
   "cell_type": "code",
   "execution_count": 318,
   "metadata": {
    "scrolled": true
   },
   "outputs": [
    {
     "name": "stdout",
     "output_type": "stream",
     "text": [
      "{'C': 0.05, 'solver': 'newton-cg'}\n",
      "Best Score: 33.0%(5.6000000000000005%)\n",
      "\n",
      "The optimal log model uses C=0.05, and a newton-cg solver, and has a cross validation score of 33.0% with a standard deviation of 5.6000000000000005%\n"
     ]
    }
   ],
   "source": [
    "print (best_params)\n",
    "print (\"Best Score: {}%({}%)\".format(round(best_accuracy,3)*100,round(best_std,3)*100))      \n",
    "\n",
    "print (\"\\nThe optimal log model uses C={}, and a {} solver, and has a cross validation score of {}% with a standard deviation of {}%\"\\\n",
    "       .format(best_params['C'],best_params['solver'],round(best_accuracy,3)*100,round(best_std,3)*100))"
   ]
  },
  {
   "cell_type": "code",
   "execution_count": 319,
   "metadata": {},
   "outputs": [],
   "source": [
    "best_model_saved = best_model"
   ]
  },
  {
   "cell_type": "markdown",
   "metadata": {},
   "source": [
    "The above grid search on solver and regularization shows the optimal pair is newton-cg solver and regularization parameter C=0.05. With these two parameters set, the next grid search will select the number of features selected from chi-square and percentage of variance explained from pca."
   ]
  },
  {
   "cell_type": "code",
   "execution_count": 321,
   "metadata": {},
   "outputs": [],
   "source": [
    "model = LogisticRegression(C=0.05, solver='newton-cg')\n",
    "scaler = StandardScaler()\n",
    "kfold = KFold(n_splits=10)\n",
    "kfold.get_n_splits(X)\n",
    "\n",
    "best_params = {}\n",
    "best_accuracy = 0\n",
    "best_std = 0\n",
    "for k in [20, 40, 80, 100, 140, 180, 220, 300]:\n",
    "    for n_components in [0.8, 0.85, 0.9, 0.95]:\n",
    "        \n",
    "        test = SelectKBest(score_func=chi2, k=k)\n",
    "        fit = test.fit(X_raw, y)\n",
    "        X = fit.transform(X_raw)\n",
    "        X = pd.DataFrame(X)\n",
    "        accuracy = np.zeros((2,n_splits))\n",
    "        np_idx = 0\n",
    "        \n",
    "        for train_idx, test_idx in kfold.split(X):\n",
    "            X_train, X_test = X.values[train_idx], X.values[test_idx]\n",
    "            y_train, y_test = y.values[train_idx], y.values[test_idx]\n",
    "\n",
    "            X_train = scaler.fit_transform(X_train)\n",
    "            X_test = scaler.transform(X_test)\n",
    "\n",
    "            pca = PCA(n_components)        \n",
    "            X_train = pca.fit_transform(X_train)\n",
    "            X_test = pca.transform(X_test)\n",
    "\n",
    "            model.fit(X_train, y_train)\n",
    "\n",
    "            predictionsTrain = model.predict(X_train)\n",
    "            count = 0\n",
    "            for i in range(len(predictionsTrain)):\n",
    "                if (predictionsTrain[i] - y_train[i][0]) == 0:\n",
    "                    count += 1 \n",
    "            ACCTrain = (count) / float(len(predictionsTrain))\n",
    "            accuracy[0, np_idx] = round(ACCTrain,3)\n",
    "\n",
    "            predictionsTest = model.predict(X_test)\n",
    "            count = 0\n",
    "            for i in range(len(predictionsTest)):\n",
    "                if (predictionsTest[i] - y_test[i][0]) == 0:\n",
    "                    count += 1 \n",
    "            ACCTest = (count) / float(len(predictionsTest))\n",
    "            accuracy[1, np_idx] = round(ACCTest,3)\n",
    "\n",
    "            np_idx += 1\n",
    "            if np.mean(accuracy[1,:]) > best_accuracy:\n",
    "                best_params = {'k':k, 'n_components':n_components}\n",
    "                best_accuracy = np.mean(accuracy[1,:])\n",
    "                best_std = np.std(accuracy)\n"
   ]
  },
  {
   "cell_type": "code",
   "execution_count": 322,
   "metadata": {
    "scrolled": true
   },
   "outputs": [
    {
     "name": "stdout",
     "output_type": "stream",
     "text": [
      "{'k': 40, 'n_components': 0.8}\n",
      "Best Score: 28.7%(5.8999999999999995%)\n",
      "\n",
      "The optimal log model uses k=40, and n_components 0.8, and has a cross validation score of 28.7% with a standard deviation of 5.8999999999999995%\n"
     ]
    }
   ],
   "source": [
    "print (best_params)\n",
    "print (\"Best Score: {}%({}%)\".format(round(best_accuracy,3)*100,round(best_std,3)*100))      \n",
    "\n",
    "print (\"\\nThe optimal log model uses k={}, and n_components {}, and has a cross validation score of {}% with a standard deviation of {}%\"\\\n",
    "       .format(best_params['k'],best_params['n_components'],round(best_accuracy,3)*100,round(best_std,3)*100))"
   ]
  },
  {
   "cell_type": "markdown",
   "metadata": {},
   "source": [
    "The above grid search shows the number of features from chi square test is 40, and n_components=0.8 for PCA. It shows the model that perform better when less features are selected, and percentage of variance needed to be explained is also preferred to be less. It is a balance between bias-variance trade-off. Selecting too many features has less bias and perform better on training data, however, when the trained model applies on test dataset, it does not perform as well as on training data, and has a high variance. The average training accuracy on testing dataset is 29% within 5.9% error, this is worth than 33% accuracy with 5.5% error from previous tuning test. The tuning with better accuracy set to select 20 features from chi square test, which shows the model could still be relaxed from overfit in order to improve accuracy."
   ]
  },
  {
   "cell_type": "markdown",
   "metadata": {},
   "source": [
    "### Testing and Discussion"
   ]
  },
  {
   "cell_type": "markdown",
   "metadata": {},
   "source": [
    "In this section, I am going to use the model that selected through hyperparameter tuning and apply it to the test dataset. To avoid duplicating code, the same data cleaning and processing is applied to the test data just as the training data, and what is different is that instead of reading multipleChoiceResponses.csv, it reads Kaggle_Salary.csv."
   ]
  },
  {
   "cell_type": "code",
   "execution_count": 323,
   "metadata": {},
   "outputs": [],
   "source": [
    "testing_X = X.copy()\n",
    "testing_y = y.copy()"
   ]
  },
  {
   "cell_type": "code",
   "execution_count": 181,
   "metadata": {},
   "outputs": [
    {
     "name": "stdout",
     "output_type": "stream",
     "text": [
      "The accuracy of the previous trained model on testing set is 30.5%\n"
     ]
    }
   ],
   "source": [
    "model = best_model_saved\n",
    "scaler = StandardScaler()\n",
    "pca = PCA(0.95)\n",
    "X_test = X.values\n",
    "y_test = y.values\n",
    "X_test = scaler.fit_transform(X_test)\n",
    "X_test = pca.fit_transform(X_test)\n",
    "\n",
    "\n",
    "predictionsTest = model.predict(X_test)\n",
    "#print(model.predict_proba(X_test))\n",
    "count = 0\n",
    "for i in range(len(predictionsTest)):\n",
    "    if (predictionsTest[i] - y_test[i][0]) == 0:\n",
    "        count += 1 \n",
    "ACCTest = (count) / float(len(predictionsTest))\n",
    "print('The accuracy of the previous trained model on testing set is {}%'.format(round(ACCTest,3)*100))"
   ]
  },
  {
   "cell_type": "markdown",
   "metadata": {},
   "source": [
    "Below shows the distribution actual test set in red, and the predicted results distribution in green. Even though the accuracy is 30.5%, but the distribution is very similar. As it shows, the first five classes match pretty well, and classes after have a relatively big mismatch. Because the way we calculate it is a hit is that it has to match the actual result exactly, and the distribution shows 90% or more of bar overlaps, so it means even for less than 70% of the data prediction are wrong, but they are pretty close to where they should belong to. Most of the response are from compensation from 0-50,000, and the training data for any high salary population is very little. Which is the cause of the gap between green and red color for high salary group. The model is underfit in this case because they are not too many high salary training data, so when this trained model is used to predict on test set which consists of more high salary people, it does not have enough capability to make a consistent accurate prediction. To improve the accuracy, there should be more high salary group people in training set, and also increase the training set size also helps."
   ]
  },
  {
   "cell_type": "code",
   "execution_count": 244,
   "metadata": {
    "scrolled": false
   },
   "outputs": [
    {
     "data": {
      "image/png": "[encoded data removed]",
      "text/plain": [
       "<Figure size 864x432 with 1 Axes>"
      ]
     },
     "metadata": {
      "needs_background": "light"
     },
     "output_type": "display_data"
    }
   ],
   "source": [
    "fig,ax = plt.subplots(figsize=(12,6))\n",
    "p1 = plt.hist(y_test, normed=True, bins=18, color='red')\n",
    "p2 = plt.hist(predictionsTest, normed=True, bins=18, color='green')\n",
    "plt.xlim(xmin=0, xmax = 17)\n",
    "plt.xlabel('Compensation Group in ascending order')\n",
    "plt.ylabel('Percentage of Total Responses')\n",
    "plt.title('Histogram of Actual Distribution vs Predicted Distribution')\n",
    "plt.show()"
   ]
  },
  {
   "cell_type": "markdown",
   "metadata": {},
   "source": [
    "Exported to new file"
   ]
  },
  {
   "cell_type": "code",
   "execution_count": 246,
   "metadata": {},
   "outputs": [],
   "source": [
    "Salaries.to_csv(\"Kaggle_Salary_clean.csv\")"
   ]
  }
 ],
 "metadata": {
  "kernelspec": {
   "display_name": "Python 3",
   "language": "python",
   "name": "python3"
  },
  "language_info": {
   "codemirror_mode": {
    "name": "ipython",
    "version": 3
   },
   "file_extension": ".py",
   "mimetype": "text/x-python",
   "name": "python",
   "nbconvert_exporter": "python",
   "pygments_lexer": "ipython3",
   "version": "3.7.1"
  },
  "widgets": {
   "state": {},
   "version": "1.1.2"
  }
 },
 "nbformat": 4,
 "nbformat_minor": 2
}
