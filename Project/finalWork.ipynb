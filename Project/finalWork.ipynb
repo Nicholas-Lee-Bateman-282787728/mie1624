{
 "cells": [
  {
   "cell_type": "code",
   "execution_count": 1,
   "metadata": {},
   "outputs": [
    {
     "name": "stderr",
     "output_type": "stream",
     "text": [
      "[nltk_data] Downloading package punkt to /Users/pingwu/nltk_data...\n",
      "[nltk_data]   Package punkt is already up-to-date!\n",
      "[nltk_data] Downloading package words to /Users/pingwu/nltk_data...\n",
      "[nltk_data]   Package words is already up-to-date!\n"
     ]
    },
    {
     "name": "stdout",
     "output_type": "stream",
     "text": [
      "Requirement already satisfied: syllables in /Users/pingwu/anaconda3/lib/python3.7/site-packages (0.1.0)\r\n"
     ]
    }
   ],
   "source": [
    "import pandas as pd\n",
    "#import random \n",
    "import os\n",
    "from sklearn.feature_extraction.text import CountVectorizer, TfidfVectorizer\n",
    "\n",
    "# Below is only for local testing purpuse, not included in submissison\n",
    "import matplotlib.pyplot as plt\n",
    "from sklearn.metrics import accuracy_score\n",
    "import numpy as np\n",
    "import itertools\n",
    "from sklearn.model_selection import KFold\n",
    "from sklearn.metrics import confusion_matrix\n",
    "\n",
    "\n",
    "# Below model if not choosen is not necessary \n",
    "from sklearn.naive_bayes import MultinomialNB, ComplementNB\n",
    "from sklearn.svm import SVC\n",
    "from sklearn.linear_model import LogisticRegression, PassiveAggressiveClassifier\n",
    "\n",
    "#from sklearn.model_selection import train_test_split\n",
    "import nltk\n",
    "## Download Resources\n",
    "nltk.download('punkt')\n",
    "nltk.download('words')\n",
    "from nltk.corpus import words\n",
    "#from nltk.sentiment import SentimentAnalyzer\n",
    "from nltk.sentiment.vader import SentimentIntensityAnalyzer\n",
    "\n",
    "############\n",
    "! pip install syllables\n",
    "import syllables\n",
    "import string\n",
    "from scipy.sparse import coo_matrix, hstack\n"
   ]
  },
  {
   "cell_type": "code",
   "execution_count": 2,
   "metadata": {},
   "outputs": [],
   "source": [
    "def appendArticles(articleList, basePath):\n",
    "    contents = ''\n",
    "    for articleNumber in articleList:\n",
    "        f = open(basePath+str(articleNumber)+\".txt\", \"r\")\n",
    "        contents = f.read()+\";\"+contents\n",
    "        f.close()\n",
    "    return contents"
   ]
  },
  {
   "cell_type": "code",
   "execution_count": 3,
   "metadata": {},
   "outputs": [],
   "source": [
    "basePath = os.path.dirname(os.path.abspath(\"train.json\"))\n",
    "# 0:false, 1:partly true, 2:true\n",
    "claim = pd.read_json(open(basePath + \"/train/train.json\", \"r\", encoding=\"utf8\"))\n",
    "txtPath = basePath+\"/train/train_articles/\""
   ]
  },
  {
   "cell_type": "code",
   "execution_count": 4,
   "metadata": {},
   "outputs": [],
   "source": [
    "claim['articleText'] = claim.apply(lambda row: appendArticles(row['related_articles'], txtPath) ,axis=1)"
   ]
  },
  {
   "cell_type": "code",
   "execution_count": 5,
   "metadata": {},
   "outputs": [],
   "source": [
    "def startNumber(text):\n",
    "    if text[:1].isdigit():\n",
    "        return 1\n",
    "    else:\n",
    "        return 0\n",
    "\n",
    "def containQuestion(text):\n",
    "    if '?' in text or '!' in text:\n",
    "        return 1\n",
    "    else:\n",
    "        return 0\n",
    "    \n",
    "def numberSyllable(text):\n",
    "    text = text.translate(str.maketrans('', '', string.punctuation))\n",
    "    number_words = len(text.split())\n",
    "    total = 0\n",
    "    for word in text.split():\n",
    "        total += syllables.estimate(word)\n",
    "    return total/number_words\n",
    "\n",
    "def assignLength(row, colName):\n",
    "    return len(row[colName])"
   ]
  },
  {
   "cell_type": "code",
   "execution_count": 6,
   "metadata": {},
   "outputs": [],
   "source": [
    "sid = SentimentIntensityAnalyzer()\n",
    "claim['claimSentiment'] = claim.apply(lambda row: sid.polarity_scores(row['claim'])['compound'] ,axis=1)\n",
    "claim['SentimentAdjust'] = claim['claimSentiment']+1"
   ]
  },
  {
   "cell_type": "code",
   "execution_count": 7,
   "metadata": {},
   "outputs": [],
   "source": [
    "#check if claim starts with a number\n",
    "claim['start_number'] = claim.apply(lambda row: startNumber(row['claim']) ,axis=1)"
   ]
  },
  {
   "cell_type": "code",
   "execution_count": 8,
   "metadata": {},
   "outputs": [],
   "source": [
    "#check if claim contain any ? or !\n",
    "claim['containQX'] = claim.apply(lambda row: containQuestion(row['claim']) ,axis=1)\n",
    "#number of words in the claim\n",
    "claim['titleWords'] = claim.apply(lambda row: len(row['claim'].split()) ,axis=1)\n",
    "#number of related articles to the claim\n",
    "claim['numberArticle'] = claim.apply(lambda row: len(row['related_articles']) ,axis=1)\n",
    "#number of average syllables in each word in the claim\n",
    "claim['claimSyllable'] = claim.apply(lambda row: numberSyllable(row['claim']) ,axis=1)\n",
    "claim['articleLength'] = claim.apply(lambda row: assignLength(row, 'articleText'), axis=1)\n",
    "#average length of word in related articles to the claim\n",
    "#claim['articleLength'] = claim.apply(lambda row: assignLength(row, 'articleText')/row['numberArticle'], axis=1)\n",
    "count = lambda l1,l2: sum([1 for x in l1 if x in l2])\n",
    "#get number of punctuation in the claim\n",
    "claim['claimPunc'] = claim.apply(lambda row: count(row['claim'],set(string.punctuation)), axis=1)\n",
    "#get number of punctuation in each related articles\n",
    "claim['articlePunc'] = claim.apply(lambda row: count(row['articleText'],set(string.punctuation))/row['numberArticle'], axis=1)\n"
   ]
  },
  {
   "cell_type": "code",
   "execution_count": 26,
   "metadata": {},
   "outputs": [],
   "source": [
    "def plot_confusion_matrix(cm, classes, normalize=False, title='Confusion matrix', cmap=plt.cm.Blues):\n",
    "    \"\"\"\n",
    "    See full source and example: \n",
    "    http://scikit-learn.org/stable/auto_examples/model_selection/plot_confusion_matrix.html\n",
    "    \n",
    "    This function prints and plots the confusion matrix.\n",
    "    Normalization can be applied by setting `normalize=True`.\n",
    "    \"\"\"\n",
    "    plt.imshow(cm, interpolation='nearest', cmap=cmap)\n",
    "    plt.title(title)\n",
    "    plt.colorbar()\n",
    "    tick_marks = np.arange(len(classes))\n",
    "    plt.xticks(tick_marks, classes, rotation=45)\n",
    "    plt.yticks(tick_marks, classes)\n",
    "\n",
    "    if normalize:\n",
    "        cm = cm.astype('float') / cm.sum(axis=1)[:, np.newaxis]\n",
    "        print(\"Normalized confusion matrix\")\n",
    "    else:\n",
    "        print('Confusion matrix, without normalization')\n",
    "\n",
    "    thresh = cm.max() / 2.\n",
    "    for i, j in itertools.product(range(cm.shape[0]), range(cm.shape[1])):\n",
    "        plt.text(j, i, cm[i, j],\n",
    "                 horizontalalignment=\"center\",\n",
    "                 color=\"white\" if cm[i, j] > thresh else \"black\")\n",
    "\n",
    "    plt.tight_layout()\n",
    "    plt.ylabel('True label')\n",
    "    plt.xlabel('Predicted label')"
   ]
  },
  {
   "cell_type": "code",
   "execution_count": 27,
   "metadata": {},
   "outputs": [
    {
     "name": "stderr",
     "output_type": "stream",
     "text": [
      "/Users/pingwu/anaconda3/lib/python3.7/site-packages/scipy/optimize/linesearch.py:462: LineSearchWarning: The line search algorithm did not converge\n",
      "  warn('The line search algorithm did not converge', LineSearchWarning)\n",
      "/Users/pingwu/anaconda3/lib/python3.7/site-packages/scipy/optimize/linesearch.py:313: LineSearchWarning: The line search algorithm did not converge\n",
      "  warn('The line search algorithm did not converge', LineSearchWarning)\n",
      "/Users/pingwu/anaconda3/lib/python3.7/site-packages/sklearn/utils/optimize.py:203: ConvergenceWarning: newton-cg failed to converge. Increase the number of iterations.\n",
      "  \"number of iterations.\", ConvergenceWarning)\n"
     ]
    },
    {
     "name": "stdout",
     "output_type": "stream",
     "text": [
      "accuracy:   0.593\n",
      "Confusion matrix, without normalization\n"
     ]
    },
    {
     "name": "stderr",
     "output_type": "stream",
     "text": [
      "/Users/pingwu/anaconda3/lib/python3.7/site-packages/scipy/optimize/linesearch.py:462: LineSearchWarning: The line search algorithm did not converge\n",
      "  warn('The line search algorithm did not converge', LineSearchWarning)\n",
      "/Users/pingwu/anaconda3/lib/python3.7/site-packages/scipy/optimize/linesearch.py:313: LineSearchWarning: The line search algorithm did not converge\n",
      "  warn('The line search algorithm did not converge', LineSearchWarning)\n",
      "/Users/pingwu/anaconda3/lib/python3.7/site-packages/sklearn/utils/optimize.py:203: ConvergenceWarning: newton-cg failed to converge. Increase the number of iterations.\n",
      "  \"number of iterations.\", ConvergenceWarning)\n"
     ]
    },
    {
     "name": "stdout",
     "output_type": "stream",
     "text": [
      "accuracy:   0.596\n",
      "Confusion matrix, without normalization\n"
     ]
    },
    {
     "data": {
      "image/png": "[encoded data removed]",
      "text/plain": [
       "<Figure size 432x288 with 3 Axes>"
      ]
     },
     "metadata": {
      "needs_background": "light"
     },
     "output_type": "display_data"
    }
   ],
   "source": [
    "n_splits = 2\n",
    "kfold = KFold(n_splits=n_splits)\n",
    "kfold.get_n_splits(claim)\n",
    "for train_idx, test_idx in kfold.split(claim):\n",
    "    X_train, X_test = claim.iloc[train_idx], claim.iloc[test_idx]    \n",
    "    y_train, y_test = X_train['label'], X_test['label']\n",
    "    X_train_text, X_test_text= X_train['articleText'], X_test['articleText']\n",
    "    \n",
    "    # Initialize the `tfidf_vectorizer` \n",
    "    tfidf_vectorizer = TfidfVectorizer(stop_words='english', \\\n",
    "                                       ngram_range=(2, 2), max_df=0.7, max_features=3000) \n",
    "    # Fit and transform the training data \n",
    "    tfidf_train = tfidf_vectorizer.fit_transform(X_train_text) \n",
    "    # Transform the test set \n",
    "    tfidf_test = tfidf_vectorizer.transform(X_test_text)\n",
    "\n",
    "    featureToBeAdded = ['SentimentAdjust',\\\n",
    "                        #'claimSentiment',\\\n",
    "                        'numberArticle','articleLength',\\\n",
    "                        'start_number',\\\n",
    "                        'containQX', \\\n",
    "                        'titleWords',\\\n",
    "                        'claimSyllable',\\\n",
    "                        'claimPunc', 'articlePunc',\\\n",
    "                       ]\n",
    "    combResults = tfidf_train\n",
    "    for featureName in featureToBeAdded:\n",
    "        colToBeAdded = coo_matrix(X_train[featureName]).transpose()\n",
    "        combResults = hstack([combResults, colToBeAdded])\n",
    "\n",
    "    combResultsTest = tfidf_test\n",
    "    for featureName in featureToBeAdded:\n",
    "        colToBeAdded = coo_matrix(X_test[featureName]).transpose()\n",
    "        combResultsTest = hstack([combResultsTest, colToBeAdded])\n",
    "\n",
    "    #multi_class : str, {‘ovr’, ‘multinomial’, ‘auto’}, optional (default=’ovr’)\n",
    "    #solver : str, {‘newton-cg’, ‘lbfgs’, ‘liblinear’, ‘sag’, ‘saga’}, optional (default=’liblinear’).\n",
    "    clf = LogisticRegression(random_state=0, solver='newton-cg', multi_class='multinomial')\n",
    "    #clf = MultinomialNB() \n",
    "    #clf = ComplementNB()\n",
    "    #clf =  SVC()\n",
    "    #clf = PassiveAggressiveClassifier(tol=50)\n",
    "    clf.fit(combResults, y_train)\n",
    "    pred = clf.predict(combResultsTest)\n",
    "    score = accuracy_score(y_test, pred)\n",
    "    print(\"accuracy:   %0.3f\" % score)\n",
    "    cm = confusion_matrix(y_test, pred, labels=[0, 1, 2])\n",
    "    plot_confusion_matrix(cm, classes=[0, 1, 2])"
   ]
  },
  {
   "cell_type": "code",
   "execution_count": null,
   "metadata": {},
   "outputs": [],
   "source": []
  }
 ],
 "metadata": {
  "kernelspec": {
   "display_name": "Python 3",
   "language": "python",
   "name": "python3"
  },
  "language_info": {
   "codemirror_mode": {
    "name": "ipython",
    "version": 3
   },
   "file_extension": ".py",
   "mimetype": "text/x-python",
   "name": "python",
   "nbconvert_exporter": "python",
   "pygments_lexer": "ipython3",
   "version": "3.7.1"
  }
 },
 "nbformat": 4,
 "nbformat_minor": 2
}
